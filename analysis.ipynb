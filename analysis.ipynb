{
 "cells": [
  {
   "cell_type": "code",
   "execution_count": 116,
   "id": "26dff8c2",
   "metadata": {},
   "outputs": [],
   "source": [
    "#importing numpy for mathematical functions\n",
    "import numpy as np\n",
    "#importing pandas for data extraction and organisation\n",
    "import pandas as pd"
   ]
  },
  {
   "cell_type": "code",
   "execution_count": 117,
   "id": "d537307e",
   "metadata": {},
   "outputs": [],
   "source": [
    "df = pd.read_csv('https://raw.githubusercontent.com/S-Shrey-09/Entrepreneurship-Factors/main/Survey%20Responses_final.csv')"
   ]
  },
  {
   "cell_type": "code",
   "execution_count": 118,
   "id": "31fd9912",
   "metadata": {},
   "outputs": [
    {
     "data": {
      "text/html": [
       "<div>\n",
       "<style scoped>\n",
       "    .dataframe tbody tr th:only-of-type {\n",
       "        vertical-align: middle;\n",
       "    }\n",
       "\n",
       "    .dataframe tbody tr th {\n",
       "        vertical-align: top;\n",
       "    }\n",
       "\n",
       "    .dataframe thead th {\n",
       "        text-align: right;\n",
       "    }\n",
       "</style>\n",
       "<table border=\"1\" class=\"dataframe\">\n",
       "  <thead>\n",
       "    <tr style=\"text-align: right;\">\n",
       "      <th></th>\n",
       "      <th>Timestamp</th>\n",
       "      <th>Which college are you from?</th>\n",
       "      <th>City</th>\n",
       "      <th>Public/Private</th>\n",
       "      <th>CAPS</th>\n",
       "      <th>KEY</th>\n",
       "      <th>Education</th>\n",
       "      <th>Is anyone from your family into Entrepreneurship?</th>\n",
       "      <th>Which year of college are you in currently?</th>\n",
       "      <th>It’s easy to find the right mentor in college for my startup.</th>\n",
       "      <th>...</th>\n",
       "      <th>diff_Q6</th>\n",
       "      <th>diff_Q7</th>\n",
       "      <th>diff_Q8</th>\n",
       "      <th>diff_Q9</th>\n",
       "      <th>Educational</th>\n",
       "      <th>Relational</th>\n",
       "      <th>Structural</th>\n",
       "      <th>diff_Edu</th>\n",
       "      <th>diff_Rel</th>\n",
       "      <th>diff_Str</th>\n",
       "    </tr>\n",
       "  </thead>\n",
       "  <tbody>\n",
       "    <tr>\n",
       "      <th>0</th>\n",
       "      <td>3-13-2023 15:44:10</td>\n",
       "      <td>Jamia Milia Islamia</td>\n",
       "      <td>Delhi</td>\n",
       "      <td>NaN</td>\n",
       "      <td>Jamia Milia Islamia</td>\n",
       "      <td>1</td>\n",
       "      <td>NaN</td>\n",
       "      <td>Mother</td>\n",
       "      <td>2</td>\n",
       "      <td>1</td>\n",
       "      <td>...</td>\n",
       "      <td>-1</td>\n",
       "      <td>1</td>\n",
       "      <td>0</td>\n",
       "      <td>-3</td>\n",
       "      <td>1.00</td>\n",
       "      <td>3.00</td>\n",
       "      <td>2.67</td>\n",
       "      <td>1.00</td>\n",
       "      <td>-1.00</td>\n",
       "      <td>-0.67</td>\n",
       "    </tr>\n",
       "    <tr>\n",
       "      <th>1</th>\n",
       "      <td>3-13-2023 15:43:09</td>\n",
       "      <td>Jamia Milia Islamia</td>\n",
       "      <td>Delhi</td>\n",
       "      <td>NaN</td>\n",
       "      <td>JAMIA MILIA ISLAMIA</td>\n",
       "      <td>1</td>\n",
       "      <td>NaN</td>\n",
       "      <td>No One</td>\n",
       "      <td>3</td>\n",
       "      <td>1</td>\n",
       "      <td>...</td>\n",
       "      <td>-2</td>\n",
       "      <td>0</td>\n",
       "      <td>-1</td>\n",
       "      <td>-3</td>\n",
       "      <td>1.00</td>\n",
       "      <td>1.67</td>\n",
       "      <td>2.33</td>\n",
       "      <td>0.00</td>\n",
       "      <td>-0.67</td>\n",
       "      <td>-1.33</td>\n",
       "    </tr>\n",
       "    <tr>\n",
       "      <th>2</th>\n",
       "      <td>3-13-2023 16:05:43</td>\n",
       "      <td>Hindu college</td>\n",
       "      <td>Delhi</td>\n",
       "      <td>NaN</td>\n",
       "      <td>HINDU COLLEGE</td>\n",
       "      <td>2</td>\n",
       "      <td>NaN</td>\n",
       "      <td>No One</td>\n",
       "      <td>2</td>\n",
       "      <td>3</td>\n",
       "      <td>...</td>\n",
       "      <td>-2</td>\n",
       "      <td>-3</td>\n",
       "      <td>-1</td>\n",
       "      <td>-4</td>\n",
       "      <td>3.00</td>\n",
       "      <td>3.00</td>\n",
       "      <td>3.67</td>\n",
       "      <td>-2.00</td>\n",
       "      <td>-2.00</td>\n",
       "      <td>-2.67</td>\n",
       "    </tr>\n",
       "    <tr>\n",
       "      <th>3</th>\n",
       "      <td>3-13-2023 16:06:36</td>\n",
       "      <td>Hindu College</td>\n",
       "      <td>Delhi</td>\n",
       "      <td>NaN</td>\n",
       "      <td>HINDU COLLEGE</td>\n",
       "      <td>2</td>\n",
       "      <td>NaN</td>\n",
       "      <td>Father</td>\n",
       "      <td>4</td>\n",
       "      <td>3</td>\n",
       "      <td>...</td>\n",
       "      <td>0</td>\n",
       "      <td>0</td>\n",
       "      <td>2</td>\n",
       "      <td>0</td>\n",
       "      <td>3.00</td>\n",
       "      <td>5.00</td>\n",
       "      <td>4.33</td>\n",
       "      <td>2.00</td>\n",
       "      <td>0.00</td>\n",
       "      <td>0.67</td>\n",
       "    </tr>\n",
       "    <tr>\n",
       "      <th>4</th>\n",
       "      <td>3-13-2023 16:13:38</td>\n",
       "      <td>Anna University</td>\n",
       "      <td>Chennai</td>\n",
       "      <td>NaN</td>\n",
       "      <td>ANNA UNIVERSITY</td>\n",
       "      <td>3</td>\n",
       "      <td>NaN</td>\n",
       "      <td>No One</td>\n",
       "      <td>1</td>\n",
       "      <td>2</td>\n",
       "      <td>...</td>\n",
       "      <td>0</td>\n",
       "      <td>-3</td>\n",
       "      <td>-2</td>\n",
       "      <td>-1</td>\n",
       "      <td>1.67</td>\n",
       "      <td>3.00</td>\n",
       "      <td>3.00</td>\n",
       "      <td>-0.67</td>\n",
       "      <td>-2.00</td>\n",
       "      <td>-2.00</td>\n",
       "    </tr>\n",
       "  </tbody>\n",
       "</table>\n",
       "<p>5 rows × 34 columns</p>\n",
       "</div>"
      ],
      "text/plain": [
       "            Timestamp Which college are you from?     City  Public/Private  \\\n",
       "0  3-13-2023 15:44:10         Jamia Milia Islamia    Delhi             NaN   \n",
       "1  3-13-2023 15:43:09        Jamia Milia Islamia     Delhi             NaN   \n",
       "2  3-13-2023 16:05:43              Hindu college     Delhi             NaN   \n",
       "3  3-13-2023 16:06:36              Hindu College     Delhi             NaN   \n",
       "4  3-13-2023 16:13:38            Anna University   Chennai             NaN   \n",
       "\n",
       "                   CAPS KEY  Education  \\\n",
       "0   Jamia Milia Islamia   1        NaN   \n",
       "1  JAMIA MILIA ISLAMIA    1        NaN   \n",
       "2        HINDU COLLEGE    2        NaN   \n",
       "3        HINDU COLLEGE    2        NaN   \n",
       "4      ANNA UNIVERSITY    3        NaN   \n",
       "\n",
       "    Is anyone from your family into Entrepreneurship?    \\\n",
       "0                                             Mother      \n",
       "1                                             No One      \n",
       "2                                             No One      \n",
       "3                                             Father      \n",
       "4                                             No One      \n",
       "\n",
       "   Which year of college are you in currently?   \\\n",
       "0                                             2   \n",
       "1                                             3   \n",
       "2                                             2   \n",
       "3                                             4   \n",
       "4                                             1   \n",
       "\n",
       "   It’s easy to find the right mentor in college for my startup.   ...  \\\n",
       "0                                                  1               ...   \n",
       "1                                                  1               ...   \n",
       "2                                                  3               ...   \n",
       "3                                                  3               ...   \n",
       "4                                                  2               ...   \n",
       "\n",
       "   diff_Q6  diff_Q7  diff_Q8  diff_Q9  Educational  Relational  Structural  \\\n",
       "0       -1        1        0       -3         1.00        3.00        2.67   \n",
       "1       -2        0       -1       -3         1.00        1.67        2.33   \n",
       "2       -2       -3       -1       -4         3.00        3.00        3.67   \n",
       "3        0        0        2        0         3.00        5.00        4.33   \n",
       "4        0       -3       -2       -1         1.67        3.00        3.00   \n",
       "\n",
       "   diff_Edu  diff_Rel  diff_Str  \n",
       "0      1.00     -1.00     -0.67  \n",
       "1      0.00     -0.67     -1.33  \n",
       "2     -2.00     -2.00     -2.67  \n",
       "3      2.00      0.00      0.67  \n",
       "4     -0.67     -2.00     -2.00  \n",
       "\n",
       "[5 rows x 34 columns]"
      ]
     },
     "execution_count": 118,
     "metadata": {},
     "output_type": "execute_result"
    }
   ],
   "source": [
    "df.head()"
   ]
  },
  {
   "cell_type": "code",
   "execution_count": 119,
   "id": "9bccb8a5",
   "metadata": {},
   "outputs": [
    {
     "data": {
      "text/html": [
       "<div>\n",
       "<style scoped>\n",
       "    .dataframe tbody tr th:only-of-type {\n",
       "        vertical-align: middle;\n",
       "    }\n",
       "\n",
       "    .dataframe tbody tr th {\n",
       "        vertical-align: top;\n",
       "    }\n",
       "\n",
       "    .dataframe thead th {\n",
       "        text-align: right;\n",
       "    }\n",
       "</style>\n",
       "<table border=\"1\" class=\"dataframe\">\n",
       "  <thead>\n",
       "    <tr style=\"text-align: right;\">\n",
       "      <th></th>\n",
       "      <th>Which college are you from?</th>\n",
       "      <th>City</th>\n",
       "      <th>KEY</th>\n",
       "      <th>Education</th>\n",
       "      <th>Is anyone from your family into Entrepreneurship?</th>\n",
       "      <th>Which year of college are you in currently?</th>\n",
       "      <th>It’s easy to find the right mentor in college for my startup.</th>\n",
       "      <th>My college and college clubs develop my entrepreneurial skills and abilities</th>\n",
       "      <th>My institution has introduced courses in order to keep us in touch with growing wave of entrepreneurship in the country</th>\n",
       "      <th>My family would support me if I shift my focus to unconventional or entrepreneurial activities</th>\n",
       "      <th>...</th>\n",
       "      <th>diff_Q6</th>\n",
       "      <th>diff_Q7</th>\n",
       "      <th>diff_Q8</th>\n",
       "      <th>diff_Q9</th>\n",
       "      <th>Educational</th>\n",
       "      <th>Relational</th>\n",
       "      <th>Structural</th>\n",
       "      <th>diff_Edu</th>\n",
       "      <th>diff_Rel</th>\n",
       "      <th>diff_Str</th>\n",
       "    </tr>\n",
       "  </thead>\n",
       "  <tbody>\n",
       "    <tr>\n",
       "      <th>496</th>\n",
       "      <td>Sggs nanded</td>\n",
       "      <td>Nanded</td>\n",
       "      <td>136</td>\n",
       "      <td>NaN</td>\n",
       "      <td>No One</td>\n",
       "      <td>1</td>\n",
       "      <td>4</td>\n",
       "      <td>3</td>\n",
       "      <td>4</td>\n",
       "      <td>5</td>\n",
       "      <td>...</td>\n",
       "      <td>2</td>\n",
       "      <td>3</td>\n",
       "      <td>2</td>\n",
       "      <td>3</td>\n",
       "      <td>3.67</td>\n",
       "      <td>2.67</td>\n",
       "      <td>1.33</td>\n",
       "      <td>0.33</td>\n",
       "      <td>1.33</td>\n",
       "      <td>2.67</td>\n",
       "    </tr>\n",
       "    <tr>\n",
       "      <th>497</th>\n",
       "      <td>Sri krishna</td>\n",
       "      <td>Bangalore</td>\n",
       "      <td>137</td>\n",
       "      <td>NaN</td>\n",
       "      <td>No One</td>\n",
       "      <td>2</td>\n",
       "      <td>1</td>\n",
       "      <td>2</td>\n",
       "      <td>2</td>\n",
       "      <td>1</td>\n",
       "      <td>...</td>\n",
       "      <td>0</td>\n",
       "      <td>1</td>\n",
       "      <td>1</td>\n",
       "      <td>0</td>\n",
       "      <td>1.67</td>\n",
       "      <td>1.33</td>\n",
       "      <td>1.33</td>\n",
       "      <td>0.33</td>\n",
       "      <td>0.67</td>\n",
       "      <td>0.67</td>\n",
       "    </tr>\n",
       "    <tr>\n",
       "      <th>498</th>\n",
       "      <td>Sri Venkateswara College</td>\n",
       "      <td>Delhi</td>\n",
       "      <td>138</td>\n",
       "      <td>NaN</td>\n",
       "      <td>No One</td>\n",
       "      <td>3</td>\n",
       "      <td>3</td>\n",
       "      <td>2</td>\n",
       "      <td>4</td>\n",
       "      <td>3</td>\n",
       "      <td>...</td>\n",
       "      <td>-1</td>\n",
       "      <td>1</td>\n",
       "      <td>0</td>\n",
       "      <td>-1</td>\n",
       "      <td>3.00</td>\n",
       "      <td>3.33</td>\n",
       "      <td>4.00</td>\n",
       "      <td>1.00</td>\n",
       "      <td>0.67</td>\n",
       "      <td>0.00</td>\n",
       "    </tr>\n",
       "    <tr>\n",
       "      <th>499</th>\n",
       "      <td>University of engineering and management</td>\n",
       "      <td>Kolkata</td>\n",
       "      <td>139</td>\n",
       "      <td>NaN</td>\n",
       "      <td>No One</td>\n",
       "      <td>2</td>\n",
       "      <td>1</td>\n",
       "      <td>1</td>\n",
       "      <td>1</td>\n",
       "      <td>2</td>\n",
       "      <td>...</td>\n",
       "      <td>3</td>\n",
       "      <td>3</td>\n",
       "      <td>2</td>\n",
       "      <td>1</td>\n",
       "      <td>1.00</td>\n",
       "      <td>2.00</td>\n",
       "      <td>3.00</td>\n",
       "      <td>4.00</td>\n",
       "      <td>3.00</td>\n",
       "      <td>2.00</td>\n",
       "    </tr>\n",
       "    <tr>\n",
       "      <th>500</th>\n",
       "      <td>Vjti</td>\n",
       "      <td>Mumbai</td>\n",
       "      <td>140</td>\n",
       "      <td>NaN</td>\n",
       "      <td>No One</td>\n",
       "      <td>2</td>\n",
       "      <td>3</td>\n",
       "      <td>4</td>\n",
       "      <td>2</td>\n",
       "      <td>4</td>\n",
       "      <td>...</td>\n",
       "      <td>-1</td>\n",
       "      <td>0</td>\n",
       "      <td>0</td>\n",
       "      <td>0</td>\n",
       "      <td>3.00</td>\n",
       "      <td>4.00</td>\n",
       "      <td>3.00</td>\n",
       "      <td>0.00</td>\n",
       "      <td>-1.00</td>\n",
       "      <td>0.00</td>\n",
       "    </tr>\n",
       "  </tbody>\n",
       "</table>\n",
       "<p>5 rows × 31 columns</p>\n",
       "</div>"
      ],
      "text/plain": [
       "                  Which college are you from?       City  KEY  Education  \\\n",
       "496                               Sggs nanded     Nanded  136        NaN   \n",
       "497                               Sri krishna  Bangalore  137        NaN   \n",
       "498                 Sri Venkateswara College       Delhi  138        NaN   \n",
       "499  University of engineering and management    Kolkata  139        NaN   \n",
       "500                                      Vjti     Mumbai  140        NaN   \n",
       "\n",
       "      Is anyone from your family into Entrepreneurship?    \\\n",
       "496                                             No One      \n",
       "497                                             No One      \n",
       "498                                             No One      \n",
       "499                                             No One      \n",
       "500                                             No One      \n",
       "\n",
       "     Which year of college are you in currently?   \\\n",
       "496                                             1   \n",
       "497                                             2   \n",
       "498                                             3   \n",
       "499                                             2   \n",
       "500                                             2   \n",
       "\n",
       "     It’s easy to find the right mentor in college for my startup.   \\\n",
       "496                                                  4                \n",
       "497                                                  1                \n",
       "498                                                  3                \n",
       "499                                                  1                \n",
       "500                                                  3                \n",
       "\n",
       "     My college and college clubs develop my entrepreneurial skills and abilities   \\\n",
       "496                                                  3                               \n",
       "497                                                  2                               \n",
       "498                                                  2                               \n",
       "499                                                  1                               \n",
       "500                                                  4                               \n",
       "\n",
       "     My institution has introduced courses in order to keep us in touch with growing wave of entrepreneurship in the country   \\\n",
       "496                                                  4                                                                          \n",
       "497                                                  2                                                                          \n",
       "498                                                  4                                                                          \n",
       "499                                                  1                                                                          \n",
       "500                                                  2                                                                          \n",
       "\n",
       "     My family would support me if I shift my focus to unconventional or entrepreneurial activities   \\\n",
       "496                                                  5                                                 \n",
       "497                                                  1                                                 \n",
       "498                                                  3                                                 \n",
       "499                                                  2                                                 \n",
       "500                                                  4                                                 \n",
       "\n",
       "     ...  diff_Q6  diff_Q7  diff_Q8  diff_Q9  Educational  Relational  \\\n",
       "496  ...        2        3        2        3         3.67        2.67   \n",
       "497  ...        0        1        1        0         1.67        1.33   \n",
       "498  ...       -1        1        0       -1         3.00        3.33   \n",
       "499  ...        3        3        2        1         1.00        2.00   \n",
       "500  ...       -1        0        0        0         3.00        4.00   \n",
       "\n",
       "     Structural  diff_Edu  diff_Rel  diff_Str  \n",
       "496        1.33      0.33      1.33      2.67  \n",
       "497        1.33      0.33      0.67      0.67  \n",
       "498        4.00      1.00      0.67      0.00  \n",
       "499        3.00      4.00      3.00      2.00  \n",
       "500        3.00      0.00     -1.00      0.00  \n",
       "\n",
       "[5 rows x 31 columns]"
      ]
     },
     "execution_count": 119,
     "metadata": {},
     "output_type": "execute_result"
    }
   ],
   "source": [
    "cols = list(df.columns)\n",
    "df1 = df[cols[1:3]+cols[5:]]\n",
    "df1.head()\n",
    "df1.tail()"
   ]
  },
  {
   "cell_type": "code",
   "execution_count": 120,
   "id": "8a64aa58",
   "metadata": {},
   "outputs": [
    {
     "data": {
      "text/html": [
       "<div>\n",
       "<style scoped>\n",
       "    .dataframe tbody tr th:only-of-type {\n",
       "        vertical-align: middle;\n",
       "    }\n",
       "\n",
       "    .dataframe tbody tr th {\n",
       "        vertical-align: top;\n",
       "    }\n",
       "\n",
       "    .dataframe thead th {\n",
       "        text-align: right;\n",
       "    }\n",
       "</style>\n",
       "<table border=\"1\" class=\"dataframe\">\n",
       "  <thead>\n",
       "    <tr style=\"text-align: right;\">\n",
       "      <th></th>\n",
       "      <th>Education</th>\n",
       "      <th>Which year of college are you in currently?</th>\n",
       "      <th>It’s easy to find the right mentor in college for my startup.</th>\n",
       "      <th>My college and college clubs develop my entrepreneurial skills and abilities</th>\n",
       "      <th>My institution has introduced courses in order to keep us in touch with growing wave of entrepreneurship in the country</th>\n",
       "      <th>My family would support me if I shift my focus to unconventional or entrepreneurial activities</th>\n",
       "      <th>If I decide to be an entrepreneur family support will be an important factor for me</th>\n",
       "      <th>I’ll readily get mental and executional support from my peers for my venture</th>\n",
       "      <th>It is easy for me to get funding for my startup from alumni or outside</th>\n",
       "      <th>My country has created an ecosystem that enables young entrepreneurs to pursue their passion</th>\n",
       "      <th>...</th>\n",
       "      <th>diff_Q6</th>\n",
       "      <th>diff_Q7</th>\n",
       "      <th>diff_Q8</th>\n",
       "      <th>diff_Q9</th>\n",
       "      <th>Educational</th>\n",
       "      <th>Relational</th>\n",
       "      <th>Structural</th>\n",
       "      <th>diff_Edu</th>\n",
       "      <th>diff_Rel</th>\n",
       "      <th>diff_Str</th>\n",
       "    </tr>\n",
       "  </thead>\n",
       "  <tbody>\n",
       "    <tr>\n",
       "      <th>count</th>\n",
       "      <td>0.0</td>\n",
       "      <td>501.000000</td>\n",
       "      <td>501.000000</td>\n",
       "      <td>501.000000</td>\n",
       "      <td>501.000000</td>\n",
       "      <td>501.000000</td>\n",
       "      <td>501.000000</td>\n",
       "      <td>501.000000</td>\n",
       "      <td>501.000000</td>\n",
       "      <td>501.000000</td>\n",
       "      <td>...</td>\n",
       "      <td>501.000000</td>\n",
       "      <td>501.000000</td>\n",
       "      <td>501.000000</td>\n",
       "      <td>501.000000</td>\n",
       "      <td>501.000000</td>\n",
       "      <td>501.000000</td>\n",
       "      <td>501.000000</td>\n",
       "      <td>501.000000</td>\n",
       "      <td>501.000000</td>\n",
       "      <td>501.000000</td>\n",
       "    </tr>\n",
       "    <tr>\n",
       "      <th>mean</th>\n",
       "      <td>NaN</td>\n",
       "      <td>2.373253</td>\n",
       "      <td>3.175649</td>\n",
       "      <td>3.403194</td>\n",
       "      <td>3.021956</td>\n",
       "      <td>3.544910</td>\n",
       "      <td>4.143713</td>\n",
       "      <td>3.760479</td>\n",
       "      <td>3.311377</td>\n",
       "      <td>3.447106</td>\n",
       "      <td>...</td>\n",
       "      <td>-0.369261</td>\n",
       "      <td>0.079840</td>\n",
       "      <td>-0.055888</td>\n",
       "      <td>0.221557</td>\n",
       "      <td>3.200399</td>\n",
       "      <td>3.816347</td>\n",
       "      <td>3.309281</td>\n",
       "      <td>0.190818</td>\n",
       "      <td>-0.425130</td>\n",
       "      <td>0.081936</td>\n",
       "    </tr>\n",
       "    <tr>\n",
       "      <th>std</th>\n",
       "      <td>NaN</td>\n",
       "      <td>0.941490</td>\n",
       "      <td>1.115834</td>\n",
       "      <td>1.084947</td>\n",
       "      <td>1.239967</td>\n",
       "      <td>1.124491</td>\n",
       "      <td>0.962967</td>\n",
       "      <td>0.898062</td>\n",
       "      <td>1.125544</td>\n",
       "      <td>1.001847</td>\n",
       "      <td>...</td>\n",
       "      <td>1.218759</td>\n",
       "      <td>1.279692</td>\n",
       "      <td>1.241318</td>\n",
       "      <td>1.502270</td>\n",
       "      <td>0.978042</td>\n",
       "      <td>0.717528</td>\n",
       "      <td>0.879295</td>\n",
       "      <td>1.342282</td>\n",
       "      <td>1.070824</td>\n",
       "      <td>1.111125</td>\n",
       "    </tr>\n",
       "    <tr>\n",
       "      <th>min</th>\n",
       "      <td>NaN</td>\n",
       "      <td>1.000000</td>\n",
       "      <td>1.000000</td>\n",
       "      <td>1.000000</td>\n",
       "      <td>1.000000</td>\n",
       "      <td>1.000000</td>\n",
       "      <td>1.000000</td>\n",
       "      <td>1.000000</td>\n",
       "      <td>1.000000</td>\n",
       "      <td>1.000000</td>\n",
       "      <td>...</td>\n",
       "      <td>-4.000000</td>\n",
       "      <td>-4.000000</td>\n",
       "      <td>-4.000000</td>\n",
       "      <td>-4.000000</td>\n",
       "      <td>1.000000</td>\n",
       "      <td>1.330000</td>\n",
       "      <td>1.000000</td>\n",
       "      <td>-4.000000</td>\n",
       "      <td>-4.000000</td>\n",
       "      <td>-4.000000</td>\n",
       "    </tr>\n",
       "    <tr>\n",
       "      <th>25%</th>\n",
       "      <td>NaN</td>\n",
       "      <td>2.000000</td>\n",
       "      <td>2.000000</td>\n",
       "      <td>3.000000</td>\n",
       "      <td>2.000000</td>\n",
       "      <td>3.000000</td>\n",
       "      <td>4.000000</td>\n",
       "      <td>3.000000</td>\n",
       "      <td>3.000000</td>\n",
       "      <td>3.000000</td>\n",
       "      <td>...</td>\n",
       "      <td>-1.000000</td>\n",
       "      <td>-1.000000</td>\n",
       "      <td>-1.000000</td>\n",
       "      <td>-1.000000</td>\n",
       "      <td>2.670000</td>\n",
       "      <td>3.330000</td>\n",
       "      <td>2.670000</td>\n",
       "      <td>-0.670000</td>\n",
       "      <td>-1.000000</td>\n",
       "      <td>-0.670000</td>\n",
       "    </tr>\n",
       "    <tr>\n",
       "      <th>50%</th>\n",
       "      <td>NaN</td>\n",
       "      <td>2.000000</td>\n",
       "      <td>3.000000</td>\n",
       "      <td>4.000000</td>\n",
       "      <td>3.000000</td>\n",
       "      <td>4.000000</td>\n",
       "      <td>4.000000</td>\n",
       "      <td>4.000000</td>\n",
       "      <td>3.000000</td>\n",
       "      <td>4.000000</td>\n",
       "      <td>...</td>\n",
       "      <td>0.000000</td>\n",
       "      <td>0.000000</td>\n",
       "      <td>0.000000</td>\n",
       "      <td>0.000000</td>\n",
       "      <td>3.330000</td>\n",
       "      <td>4.000000</td>\n",
       "      <td>3.330000</td>\n",
       "      <td>0.000000</td>\n",
       "      <td>-0.330000</td>\n",
       "      <td>0.000000</td>\n",
       "    </tr>\n",
       "    <tr>\n",
       "      <th>75%</th>\n",
       "      <td>NaN</td>\n",
       "      <td>3.000000</td>\n",
       "      <td>4.000000</td>\n",
       "      <td>4.000000</td>\n",
       "      <td>4.000000</td>\n",
       "      <td>4.000000</td>\n",
       "      <td>5.000000</td>\n",
       "      <td>4.000000</td>\n",
       "      <td>4.000000</td>\n",
       "      <td>4.000000</td>\n",
       "      <td>...</td>\n",
       "      <td>0.000000</td>\n",
       "      <td>1.000000</td>\n",
       "      <td>1.000000</td>\n",
       "      <td>1.000000</td>\n",
       "      <td>4.000000</td>\n",
       "      <td>4.330000</td>\n",
       "      <td>4.000000</td>\n",
       "      <td>1.000000</td>\n",
       "      <td>0.330000</td>\n",
       "      <td>0.670000</td>\n",
       "    </tr>\n",
       "    <tr>\n",
       "      <th>max</th>\n",
       "      <td>NaN</td>\n",
       "      <td>5.000000</td>\n",
       "      <td>5.000000</td>\n",
       "      <td>5.000000</td>\n",
       "      <td>5.000000</td>\n",
       "      <td>5.000000</td>\n",
       "      <td>5.000000</td>\n",
       "      <td>5.000000</td>\n",
       "      <td>5.000000</td>\n",
       "      <td>5.000000</td>\n",
       "      <td>...</td>\n",
       "      <td>4.000000</td>\n",
       "      <td>4.000000</td>\n",
       "      <td>4.000000</td>\n",
       "      <td>4.000000</td>\n",
       "      <td>5.000000</td>\n",
       "      <td>5.000000</td>\n",
       "      <td>5.000000</td>\n",
       "      <td>4.000000</td>\n",
       "      <td>3.000000</td>\n",
       "      <td>4.000000</td>\n",
       "    </tr>\n",
       "  </tbody>\n",
       "</table>\n",
       "<p>8 rows × 27 columns</p>\n",
       "</div>"
      ],
      "text/plain": [
       "       Education  Which year of college are you in currently?   \\\n",
       "count        0.0                                    501.000000   \n",
       "mean         NaN                                      2.373253   \n",
       "std          NaN                                      0.941490   \n",
       "min          NaN                                      1.000000   \n",
       "25%          NaN                                      2.000000   \n",
       "50%          NaN                                      2.000000   \n",
       "75%          NaN                                      3.000000   \n",
       "max          NaN                                      5.000000   \n",
       "\n",
       "       It’s easy to find the right mentor in college for my startup.   \\\n",
       "count                                         501.000000                \n",
       "mean                                            3.175649                \n",
       "std                                             1.115834                \n",
       "min                                             1.000000                \n",
       "25%                                             2.000000                \n",
       "50%                                             3.000000                \n",
       "75%                                             4.000000                \n",
       "max                                             5.000000                \n",
       "\n",
       "       My college and college clubs develop my entrepreneurial skills and abilities   \\\n",
       "count                                         501.000000                               \n",
       "mean                                            3.403194                               \n",
       "std                                             1.084947                               \n",
       "min                                             1.000000                               \n",
       "25%                                             3.000000                               \n",
       "50%                                             4.000000                               \n",
       "75%                                             4.000000                               \n",
       "max                                             5.000000                               \n",
       "\n",
       "       My institution has introduced courses in order to keep us in touch with growing wave of entrepreneurship in the country   \\\n",
       "count                                         501.000000                                                                          \n",
       "mean                                            3.021956                                                                          \n",
       "std                                             1.239967                                                                          \n",
       "min                                             1.000000                                                                          \n",
       "25%                                             2.000000                                                                          \n",
       "50%                                             3.000000                                                                          \n",
       "75%                                             4.000000                                                                          \n",
       "max                                             5.000000                                                                          \n",
       "\n",
       "       My family would support me if I shift my focus to unconventional or entrepreneurial activities   \\\n",
       "count                                         501.000000                                                 \n",
       "mean                                            3.544910                                                 \n",
       "std                                             1.124491                                                 \n",
       "min                                             1.000000                                                 \n",
       "25%                                             3.000000                                                 \n",
       "50%                                             4.000000                                                 \n",
       "75%                                             4.000000                                                 \n",
       "max                                             5.000000                                                 \n",
       "\n",
       "       If I decide to be an entrepreneur family support will be an important factor for me   \\\n",
       "count                                         501.000000                                      \n",
       "mean                                            4.143713                                      \n",
       "std                                             0.962967                                      \n",
       "min                                             1.000000                                      \n",
       "25%                                             4.000000                                      \n",
       "50%                                             4.000000                                      \n",
       "75%                                             5.000000                                      \n",
       "max                                             5.000000                                      \n",
       "\n",
       "       I’ll readily get mental and executional support from my peers for my venture   \\\n",
       "count                                         501.000000                               \n",
       "mean                                            3.760479                               \n",
       "std                                             0.898062                               \n",
       "min                                             1.000000                               \n",
       "25%                                             3.000000                               \n",
       "50%                                             4.000000                               \n",
       "75%                                             4.000000                               \n",
       "max                                             5.000000                               \n",
       "\n",
       "       It is easy for me to get funding for my startup from alumni or outside   \\\n",
       "count                                         501.000000                         \n",
       "mean                                            3.311377                         \n",
       "std                                             1.125544                         \n",
       "min                                             1.000000                         \n",
       "25%                                             3.000000                         \n",
       "50%                                             3.000000                         \n",
       "75%                                             4.000000                         \n",
       "max                                             5.000000                         \n",
       "\n",
       "       My country has created an ecosystem that enables young entrepreneurs to pursue their passion   \\\n",
       "count                                         501.000000                                               \n",
       "mean                                            3.447106                                               \n",
       "std                                             1.001847                                               \n",
       "min                                             1.000000                                               \n",
       "25%                                             3.000000                                               \n",
       "50%                                             4.000000                                               \n",
       "75%                                             4.000000                                               \n",
       "max                                             5.000000                                               \n",
       "\n",
       "       ...     diff_Q6     diff_Q7     diff_Q8     diff_Q9  Educational  \\\n",
       "count  ...  501.000000  501.000000  501.000000  501.000000   501.000000   \n",
       "mean   ...   -0.369261    0.079840   -0.055888    0.221557     3.200399   \n",
       "std    ...    1.218759    1.279692    1.241318    1.502270     0.978042   \n",
       "min    ...   -4.000000   -4.000000   -4.000000   -4.000000     1.000000   \n",
       "25%    ...   -1.000000   -1.000000   -1.000000   -1.000000     2.670000   \n",
       "50%    ...    0.000000    0.000000    0.000000    0.000000     3.330000   \n",
       "75%    ...    0.000000    1.000000    1.000000    1.000000     4.000000   \n",
       "max    ...    4.000000    4.000000    4.000000    4.000000     5.000000   \n",
       "\n",
       "       Relational  Structural    diff_Edu    diff_Rel    diff_Str  \n",
       "count  501.000000  501.000000  501.000000  501.000000  501.000000  \n",
       "mean     3.816347    3.309281    0.190818   -0.425130    0.081936  \n",
       "std      0.717528    0.879295    1.342282    1.070824    1.111125  \n",
       "min      1.330000    1.000000   -4.000000   -4.000000   -4.000000  \n",
       "25%      3.330000    2.670000   -0.670000   -1.000000   -0.670000  \n",
       "50%      4.000000    3.330000    0.000000   -0.330000    0.000000  \n",
       "75%      4.330000    4.000000    1.000000    0.330000    0.670000  \n",
       "max      5.000000    5.000000    4.000000    3.000000    4.000000  \n",
       "\n",
       "[8 rows x 27 columns]"
      ]
     },
     "execution_count": 120,
     "metadata": {},
     "output_type": "execute_result"
    }
   ],
   "source": [
    "df1.describe()"
   ]
  },
  {
   "cell_type": "code",
   "execution_count": 207,
   "id": "1a1bb004",
   "metadata": {},
   "outputs": [
    {
     "data": {
      "text/plain": [
       "Index(['Which college are you from?', 'City', 'KEY', 'Education',\n",
       "       '  Is anyone from your family into Entrepreneurship?  ',\n",
       "       'Which year of college are you in currently? ',\n",
       "       'It’s easy to find the right mentor in college for my startup. ',\n",
       "       'My college and college clubs develop my entrepreneurial skills and abilities ',\n",
       "       'My institution has introduced courses in order to keep us in touch with growing wave of entrepreneurship in the country ',\n",
       "       'My family would support me if I shift my focus to unconventional or entrepreneurial activities ',\n",
       "       'If I decide to be an entrepreneur family support will be an important factor for me ',\n",
       "       'I’ll readily get mental and executional support from my peers for my venture ',\n",
       "       'It is easy for me to get funding for my startup from alumni or outside ',\n",
       "       'My country has created an ecosystem that enables young entrepreneurs to pursue their passion ',\n",
       "       'My college is located in a city which is active in entrepreneurship ',\n",
       "       'How likely are you to take up entrepreneurship as a career? ',\n",
       "       'diff_Q1', 'diff_Q2', 'diff_Q3', 'diff_Q4', 'diff_Q5', 'diff_Q6',\n",
       "       'diff_Q7', 'diff_Q8', 'diff_Q9', 'Educational', 'Relational',\n",
       "       'Structural', 'diff_Edu', 'diff_Rel', 'diff_Str'],\n",
       "      dtype='object')"
      ]
     },
     "execution_count": 207,
     "metadata": {},
     "output_type": "execute_result"
    }
   ],
   "source": [
    "df1.columns"
   ]
  },
  {
   "cell_type": "code",
   "execution_count": 208,
   "id": "8606510a",
   "metadata": {},
   "outputs": [],
   "source": [
    "Q1 = \"It’s easy to find the right mentor in college for my startup. \"\n",
    "Q2 = \"My college and college clubs develop my entrepreneurial skills and abilities \"\n",
    "Q3 = \"My institution has introduced courses in order to keep us in touch with growing wave of entrepreneurship in the country \"\n",
    "Q4 = \"My family would support me if I shift my focus to unconventional or entrepreneurial activities \"\n",
    "Q5 = \"If I decide to be an entrepreneur family support will be an important factor for me \"\n",
    "Q6 = \"I’ll readily get mental and executional support from my peers for my venture \"\n",
    "Q7 = \"It is easy for me to get funding for my startup from alumni or outside \"\n",
    "Q8 = \"My country has created an ecosystem that enables young entrepreneurs to pursue their passion \"\n",
    "Q9 = \"My college is located in a city which is active in entrepreneurship \"\n",
    "Ent = \"How likely are you to take up entrepreneurship as a career? \""
   ]
  },
  {
   "cell_type": "code",
   "execution_count": 209,
   "id": "a3279cc2",
   "metadata": {},
   "outputs": [],
   "source": [
    "import matplotlib.pyplot as plt\n",
    "from scipy.stats import spearmanr\n",
    "import seaborn as sns\n",
    "import statistics"
   ]
  },
  {
   "cell_type": "code",
   "execution_count": 210,
   "id": "6a2257a9",
   "metadata": {},
   "outputs": [
    {
     "data": {
      "text/plain": [
       "1.4385538313697208"
      ]
     },
     "execution_count": 210,
     "metadata": {},
     "output_type": "execute_result"
    },
    {
     "data": {
      "image/png": "[encoded data removed]",
      "text/plain": [
       "<Figure size 360x360 with 1 Axes>"
      ]
     },
     "metadata": {},
     "output_type": "display_data"
    }
   ],
   "source": [
    "sns.displot(df1[\"diff_Q1\"])\n",
    "statistics.stdev(df1[\"diff_Q1\"])"
   ]
  },
  {
   "cell_type": "code",
   "execution_count": 211,
   "id": "15878db1",
   "metadata": {},
   "outputs": [
    {
     "data": {
      "text/plain": [
       "1.4310332936116998"
      ]
     },
     "execution_count": 211,
     "metadata": {},
     "output_type": "execute_result"
    },
    {
     "data": {
      "image/png": "[encoded data removed]",
      "text/plain": [
       "<Figure size 360x360 with 1 Axes>"
      ]
     },
     "metadata": {},
     "output_type": "display_data"
    }
   ],
   "source": [
    "sns.displot(df1[\"diff_Q2\"])\n",
    "statistics.stdev(df1[\"diff_Q2\"])"
   ]
  },
  {
   "cell_type": "code",
   "execution_count": 212,
   "id": "1d0eb673",
   "metadata": {},
   "outputs": [
    {
     "data": {
      "text/plain": [
       "1.5418732935922503"
      ]
     },
     "execution_count": 212,
     "metadata": {},
     "output_type": "execute_result"
    },
    {
     "data": {
      "image/png": "[encoded data removed]",
      "text/plain": [
       "<Figure size 360x360 with 1 Axes>"
      ]
     },
     "metadata": {},
     "output_type": "display_data"
    }
   ],
   "source": [
    "sns.displot(df1[\"diff_Q3\"])\n",
    "statistics.stdev(df1[\"diff_Q3\"])"
   ]
  },
  {
   "cell_type": "code",
   "execution_count": 213,
   "id": "a3c67c3f",
   "metadata": {},
   "outputs": [
    {
     "data": {
      "text/plain": [
       "1.1959646053815094"
      ]
     },
     "execution_count": 213,
     "metadata": {},
     "output_type": "execute_result"
    },
    {
     "data": {
      "image/png": "[encoded data removed]",
      "text/plain": [
       "<Figure size 360x360 with 1 Axes>"
      ]
     },
     "metadata": {},
     "output_type": "display_data"
    }
   ],
   "source": [
    "sns.displot(df1[\"diff_Q4\"])\n",
    "statistics.stdev(df1[\"diff_Q4\"])"
   ]
  },
  {
   "cell_type": "code",
   "execution_count": 214,
   "id": "be3a0ece",
   "metadata": {},
   "outputs": [
    {
     "data": {
      "text/plain": [
       "1.4066338409390875"
      ]
     },
     "execution_count": 214,
     "metadata": {},
     "output_type": "execute_result"
    },
    {
     "data": {
      "image/png": "[encoded data removed]",
      "text/plain": [
       "<Figure size 360x360 with 1 Axes>"
      ]
     },
     "metadata": {},
     "output_type": "display_data"
    }
   ],
   "source": [
    "sns.displot(df1[\"diff_Q5\"])\n",
    "statistics.stdev(df1[\"diff_Q5\"])"
   ]
  },
  {
   "cell_type": "code",
   "execution_count": 215,
   "id": "4f720268",
   "metadata": {},
   "outputs": [
    {
     "data": {
      "text/plain": [
       "1.2187588988364408"
      ]
     },
     "execution_count": 215,
     "metadata": {},
     "output_type": "execute_result"
    },
    {
     "data": {
      "image/png": "[encoded data removed]",
      "text/plain": [
       "<Figure size 360x360 with 1 Axes>"
      ]
     },
     "metadata": {},
     "output_type": "display_data"
    }
   ],
   "source": [
    "sns.displot(df1[\"diff_Q6\"])\n",
    "statistics.stdev(df1[\"diff_Q6\"])"
   ]
  },
  {
   "cell_type": "code",
   "execution_count": 216,
   "id": "03915125",
   "metadata": {},
   "outputs": [
    {
     "data": {
      "text/plain": [
       "1.2796924530726506"
      ]
     },
     "execution_count": 216,
     "metadata": {},
     "output_type": "execute_result"
    },
    {
     "data": {
      "image/png": "[encoded data removed]",
      "text/plain": [
       "<Figure size 360x360 with 1 Axes>"
      ]
     },
     "metadata": {},
     "output_type": "display_data"
    }
   ],
   "source": [
    "sns.displot(df1[\"diff_Q7\"])\n",
    "statistics.stdev(df1[\"diff_Q7\"])"
   ]
  },
  {
   "cell_type": "code",
   "execution_count": 217,
   "id": "d00debd0",
   "metadata": {},
   "outputs": [
    {
     "data": {
      "text/plain": [
       "1.241317952613688"
      ]
     },
     "execution_count": 217,
     "metadata": {},
     "output_type": "execute_result"
    },
    {
     "data": {
      "image/png": "[encoded data removed]",
      "text/plain": [
       "<Figure size 360x360 with 1 Axes>"
      ]
     },
     "metadata": {},
     "output_type": "display_data"
    }
   ],
   "source": [
    "sns.displot(df1[\"diff_Q8\"])\n",
    "statistics.stdev(df1[\"diff_Q8\"])"
   ]
  },
  {
   "cell_type": "code",
   "execution_count": 218,
   "id": "fb0c7441",
   "metadata": {},
   "outputs": [
    {
     "data": {
      "text/plain": [
       "1.502269739846172"
      ]
     },
     "execution_count": 218,
     "metadata": {},
     "output_type": "execute_result"
    },
    {
     "data": {
      "image/png": "[encoded data removed]",
      "text/plain": [
       "<Figure size 360x360 with 1 Axes>"
      ]
     },
     "metadata": {},
     "output_type": "display_data"
    }
   ],
   "source": [
    "sns.displot(df1[\"diff_Q9\"])\n",
    "statistics.stdev(df1[\"diff_Q9\"])"
   ]
  },
  {
   "cell_type": "code",
   "execution_count": 219,
   "id": "df291968",
   "metadata": {
    "scrolled": true
   },
   "outputs": [
    {
     "data": {
      "text/plain": [
       "1.3422823581281682"
      ]
     },
     "execution_count": 219,
     "metadata": {},
     "output_type": "execute_result"
    },
    {
     "data": {
      "image/png": "[encoded data removed]",
      "text/plain": [
       "<Figure size 360x360 with 1 Axes>"
      ]
     },
     "metadata": {},
     "output_type": "display_data"
    }
   ],
   "source": [
    "sns.displot(df1[\"diff_Edu\"])\n",
    "statistics.stdev(df1[\"diff_Edu\"])"
   ]
  },
  {
   "cell_type": "code",
   "execution_count": 220,
   "id": "1d6015f9",
   "metadata": {},
   "outputs": [
    {
     "data": {
      "text/plain": [
       "1.0708244642021085"
      ]
     },
     "execution_count": 220,
     "metadata": {},
     "output_type": "execute_result"
    },
    {
     "data": {
      "image/png": "[encoded data removed]",
      "text/plain": [
       "<Figure size 360x360 with 1 Axes>"
      ]
     },
     "metadata": {},
     "output_type": "display_data"
    }
   ],
   "source": [
    "sns.displot(df1[\"diff_Rel\"])\n",
    "statistics.stdev(df1[\"diff_Rel\"])"
   ]
  },
  {
   "cell_type": "code",
   "execution_count": 221,
   "id": "1c38404c",
   "metadata": {},
   "outputs": [
    {
     "data": {
      "text/plain": [
       "1.1111252152265179"
      ]
     },
     "execution_count": 221,
     "metadata": {},
     "output_type": "execute_result"
    },
    {
     "data": {
      "image/png": "[encoded data removed]",
      "text/plain": [
       "<Figure size 360x360 with 1 Axes>"
      ]
     },
     "metadata": {},
     "output_type": "display_data"
    }
   ],
   "source": [
    "sns.displot(df1[\"diff_Str\"])\n",
    "statistics.stdev(df1[\"diff_Str\"])"
   ]
  },
  {
   "cell_type": "code",
   "execution_count": 222,
   "id": "2bd686e2",
   "metadata": {},
   "outputs": [],
   "source": [
    "df_Bangalore = df.loc[(df[\"City\"]==\"Bangalore\")]\n",
    "df_Bangalore\n",
    "ent_Bangalore_mean = df_Bangalore.loc[:, Ent].mean()\n",
    "\n",
    "df_Bhopal = df.loc[(df[\"City\"]==\"Bhopal\")]\n",
    "df_Bhopal\n",
    "ent_Bhopal_mean = df_Bhopal.loc[:, Ent].mean()\n",
    "\n",
    "df_Chennai = df.loc[(df[\"City\"]==\"Chennai\")]\n",
    "df_Chennai\n",
    "ent_Chennai_mean = df_Chennai.loc[:, Ent].mean()\n",
    "\n",
    "df_Delhi = df.loc[(df[\"City\"]==\"Delhi\")]\n",
    "df_Delhi\n",
    "ent_Delhi_mean = df_Delhi.loc[:, Ent].mean()\n",
    "\n",
    "df_Guwahati = df.loc[(df[\"City\"]==\"Guwahati\")]\n",
    "df_Guwahati\n",
    "ent_Guwahati_mean = df_Guwahati.loc[:, Ent].mean()\n",
    "\n",
    "df_Hyderabad = df.loc[(df[\"City\"]==\"Hyderabad\")]\n",
    "df_Hyderabad\n",
    "ent_Hyderabad_mean = df_Hyderabad.loc[:, Ent].mean()\n",
    "\n",
    "df_Indore = df.loc[(df[\"City\"]==\"Indore\")]\n",
    "df_Indore\n",
    "ent_Indore_mean = df_Indore1.loc[:, Ent].mean()\n",
    "\n",
    "df_Kanpur = df.loc[(df[\"City\"]==\"Kanpur\")]\n",
    "df_Kanpur\n",
    "ent_Kanpur_mean = df_Kanpur.loc[:, Ent].mean()\n",
    "\n",
    "df_Kharagpur = df.loc[(df[\"City\"]==\"Kharagpur\")]\n",
    "df_Kharagpur\n",
    "ent_Kharagpur_mean = df_Kharagpur.loc[:, Ent].mean()\n",
    "\n",
    "df_Mangalore = df.loc[(df[\"City\"]==\"Mangalore\")]\n",
    "df_Mangalore\n",
    "ent_Mangalore_mean = df_Mangalore.loc[:, Ent].mean()\n",
    "\n",
    "df_Mumbai = df.loc[(df[\"City\"]==\"Mumbai\")]\n",
    "df_Mumbai\n",
    "ent_Mumbai_mean = df_Mumbai.loc[:, Ent].mean()\n",
    "\n",
    "df_Pilani = df.loc[(df[\"City\"]==\"Pilani\")]\n",
    "df_Pilani\n",
    "ent_Pilani_mean = df_Pilani.loc[:, Ent].mean()\n",
    "\n",
    "df_Pune = df.loc[(df[\"City\"]==\"Pune\")]\n",
    "df_Pune\n",
    "ent_Pune_mean = df_Pune.loc[:, Ent].mean()\n",
    "\n",
    "df_Tiruchirappalli = df.loc[(df[\"City\"]==\"Tiruchirappalli\")]\n",
    "df_Tiruchirappalli\n",
    "ent_Tiruchirappalli_mean = df_Tiruchirappalli.loc[:, Ent].mean()\n",
    "\n",
    "df_Vellore = df.loc[(df[\"City\"]==\"Vellore\")]\n",
    "df_Vellore\n",
    "ent_Vellore_mean = df_Vellore.loc[:, Ent].mean()\n",
    "\n",
    "df_Indore = df.loc[(df[\"City\"]==\"Indore\")]\n",
    "df_Indore\n",
    "ent_Indore_mean = df_Indore.loc[:, Ent].mean()"
   ]
  },
  {
   "cell_type": "code",
   "execution_count": 223,
   "id": "98a63d1c",
   "metadata": {},
   "outputs": [],
   "source": [
    "df_ent_mean= pd.DataFrame({'City':[\"Bangalore\", \"Bhopal\", \"Chennai\", \"Delhi\", 'Guwahati', 'Hyderabad', 'Indore', 'Kanpur', 'Kharagpur', 'Mangalore', 'Mumbai', 'Pilani', 'Pune', 'Tiruchirapalli', 'Vellore', 'Indore'],'Avg Entrepreneurship Interest':[ent_Bangalore_mean, ent_Bhopal_mean, ent_Chennai_mean, ent_Delhi_mean, ent_Guwahati_mean, ent_Hyderabad_mean, ent_Indore_mean, ent_Kanpur_mean, ent_Kharagpur_mean, ent_Mangalore_mean, ent_Mumbai_mean, ent_Pilani_mean, ent_Pune_mean, ent_Tiruchirappalli_mean, ent_Vellore_mean, ent_Indore_mean]})\n",
    "df_ent_mean = df_ent_mean.sort_values('Avg Entrepreneurship Interest', ascending=True)"
   ]
  },
  {
   "cell_type": "code",
   "execution_count": 224,
   "id": "e7d6f1dc",
   "metadata": {},
   "outputs": [
    {
     "data": {
      "text/plain": [
       "<AxesSubplot:xlabel='Avg Entrepreneurship Interest', ylabel='City'>"
      ]
     },
     "execution_count": 224,
     "metadata": {},
     "output_type": "execute_result"
    },
    {
     "data": {
      "image/png": "[encoded data removed]",
      "text/plain": [
       "<Figure size 432x288 with 1 Axes>"
      ]
     },
     "metadata": {},
     "output_type": "display_data"
    }
   ],
   "source": [
    "sns.barplot(x=\"Avg Entrepreneurship Interest\", y=\"City\", data=df_ent_mean,\n",
    "            label=\"Total\", palette=\"bright\")"
   ]
  },
  {
   "cell_type": "code",
   "execution_count": 225,
   "id": "31dc52fc",
   "metadata": {},
   "outputs": [],
   "source": [
    "df_Bangalore = df.loc[(df[\"City\"]==\"Bangalore\")]\n",
    "df_Bangalore\n",
    "Q9_Bangalore_mean = df_Bangalore.loc[:, Q9].mean()\n",
    "\n",
    "df_Bhopal = df.loc[(df[\"City\"]==\"Bhopal\")]\n",
    "df_Bhopal\n",
    "Q9_Bhopal_mean = df_Bhopal.loc[:, Q9].mean()\n",
    "\n",
    "df_Chennai = df.loc[(df[\"City\"]==\"Chennai\")]\n",
    "df_Chennai\n",
    "Q9_Chennai_mean = df_Chennai.loc[:, Q9].mean()\n",
    "\n",
    "df_Delhi = df.loc[(df[\"City\"]==\"Delhi\")]\n",
    "df_Delhi\n",
    "Q9_Delhi_mean = df_Delhi.loc[:, Q9].mean()\n",
    "\n",
    "df_Guwahati = df.loc[(df[\"City\"]==\"Guwahati\")]\n",
    "df_Guwahati\n",
    "Q9_Guwahati_mean = df_Guwahati.loc[:, Q9].mean()\n",
    "\n",
    "df_Hyderabad = df.loc[(df[\"City\"]==\"Hyderabad\")]\n",
    "df_Hyderabad\n",
    "Q9_Hyderabad_mean = df_Hyderabad.loc[:, Q9].mean()\n",
    "\n",
    "df_Indore = df.loc[(df[\"City\"]==\"Indore\")]\n",
    "df_Indore\n",
    "Q9_Indore_mean = df_Indore.loc[:, Q9].mean()\n",
    "\n",
    "df_Kanpur = df.loc[(df[\"City\"]==\"Kanpur\")]\n",
    "df_Kanpur\n",
    "Q9_Kanpur_mean = df_Kanpur.loc[:, Q9].mean()\n",
    "\n",
    "df_Kharagpur = df.loc[(df[\"City\"]==\"Kharagpur\")]\n",
    "df_Kharagpur\n",
    "Q9_Kharagpur_mean = df_Kharagpur.loc[:, Q9].mean()\n",
    "\n",
    "df_Mangalore = df.loc[(df[\"City\"]==\"Mangalore\")]\n",
    "df_Mangalore\n",
    "Q9_Mangalore_mean = df_Mangalore.loc[:, Q9].mean()\n",
    "\n",
    "df_Mumbai = df.loc[(df[\"City\"]==\"Mumbai\")]\n",
    "df_Mumbai\n",
    "Q9_Mumbai_mean = df_Mumbai.loc[:, Q9].mean()\n",
    "\n",
    "df_Pilani = df.loc[(df[\"City\"]==\"Pilani\")]\n",
    "df_Pilani\n",
    "Q9_Pilani_mean = df_Pilani.loc[:, Q9].mean()\n",
    "\n",
    "df_Pune = df.loc[(df[\"City\"]==\"Pune\")]\n",
    "df_Pune\n",
    "Q9_Pune_mean = df_Pune.loc[:, Q9].mean()\n",
    "\n",
    "df_Tiruchirappalli = df.loc[(df[\"City\"]==\"Tiruchirappalli\")]\n",
    "df_Tiruchirappalli\n",
    "Q9_Tiruchirappalli_mean = df_Tiruchirappalli.loc[:, Q9].mean()\n",
    "\n",
    "df_Vellore = df.loc[(df[\"City\"]==\"Vellore\")]\n",
    "df_Vellore\n",
    "Q9_Vellore_mean = df_Vellore.loc[:, Q9].mean()"
   ]
  },
  {
   "cell_type": "code",
   "execution_count": 226,
   "id": "769cd61c",
   "metadata": {},
   "outputs": [
    {
     "data": {
      "text/plain": [
       "Index(['City', 'City's Entrepreneurship Perception'], dtype='object')"
      ]
     },
     "execution_count": 226,
     "metadata": {},
     "output_type": "execute_result"
    }
   ],
   "source": [
    "df_Q9_mean= pd.DataFrame({'City':[\"Bangalore\", \"Bhopal\", \"Chennai\", \"Delhi\", 'Guwahati', 'Hyderabad', 'Indore', 'Kanpur', 'Kharagpur', 'Mangalore', 'Mumbai', 'Pilani', 'Pune', 'Tiruchirapalli', 'Vellore', 'Indore'],\"City's Entrepreneurship Perception\":[Q9_Bangalore_mean, Q9_Bhopal_mean, Q9_Chennai_mean, Q9_Delhi_mean, Q9_Guwahati_mean, Q9_Hyderabad_mean, Q9_Indore_mean, Q9_Kanpur_mean, Q9_Kharagpur_mean, Q9_Mangalore_mean, Q9_Mumbai_mean, Q9_Pilani_mean, Q9_Pune_mean, Q9_Tiruchirappalli_mean, Q9_Vellore_mean, Q9_Indore_mean]})\n",
    "df_Q9_mean = df_Q9_mean.sort_values(\"City's Entrepreneurship Perception\", ascending=False)\n",
    "df_Q9_mean.columns"
   ]
  },
  {
   "cell_type": "code",
   "execution_count": 227,
   "id": "1aede093",
   "metadata": {},
   "outputs": [
    {
     "data": {
      "text/plain": [
       "<AxesSubplot:xlabel=\"City's Entrepreneurship Perception\", ylabel='City'>"
      ]
     },
     "execution_count": 227,
     "metadata": {},
     "output_type": "execute_result"
    },
    {
     "data": {
      "image/png": "[encoded data removed]",
      "text/plain": [
       "<Figure size 432x288 with 1 Axes>"
      ]
     },
     "metadata": {},
     "output_type": "display_data"
    }
   ],
   "source": [
    "sns.barplot(x=\"City's Entrepreneurship Perception\", y=\"City\", data=df_Q9_mean,\n",
    "            label=\"Total\", palette=\"bright\")"
   ]
  },
  {
   "cell_type": "code",
   "execution_count": 229,
   "id": "3fc8a619",
   "metadata": {},
   "outputs": [],
   "source": [
    "df_Bangalore = df.loc[(df[\"City\"]==\"Bangalore\")]\n",
    "df_Bangalore\n",
    "Relational_Bangalore_mean = df_Bangalore.loc[:, \"Relational\"].mean()\n",
    "\n",
    "df_Bhopal = df.loc[(df[\"City\"]==\"Bhopal\")]\n",
    "df_Bhopal\n",
    "Relational_Bhopal_mean = df_Bhopal.loc[:, \"Relational\"].mean()\n",
    "\n",
    "df_Chennai = df.loc[(df[\"City\"]==\"Chennai\")]\n",
    "df_Chennai\n",
    "Relational_Chennai_mean = df_Chennai.loc[:, \"Relational\"].mean()\n",
    "\n",
    "df_Delhi = df.loc[(df[\"City\"]==\"Delhi\")]\n",
    "df_Delhi\n",
    "Relational_Delhi_mean = df_Delhi.loc[:, \"Relational\"].mean()\n",
    "\n",
    "df_Guwahati = df.loc[(df[\"City\"]==\"Guwahati\")]\n",
    "df_Guwahati\n",
    "Relational_Guwahati_mean = df_Guwahati.loc[:, \"Relational\"].mean()\n",
    "\n",
    "df_Hyderabad = df.loc[(df[\"City\"]==\"Hyderabad\")]\n",
    "df_Hyderabad\n",
    "Relational_Hyderabad_mean = df_Hyderabad.loc[:, \"Relational\"].mean()\n",
    "\n",
    "df_Indore = df.loc[(df[\"City\"]==\"Indore\")]\n",
    "df_Indore\n",
    "Relational_Indore_mean = df_Indore.loc[:, \"Relational\"].mean()\n",
    "\n",
    "df_Kanpur = df.loc[(df[\"City\"]==\"Kanpur\")]\n",
    "df_Kanpur\n",
    "Relational_Kanpur_mean = df_Kanpur.loc[:, \"Relational\"].mean()\n",
    "\n",
    "df_Kharagpur = df.loc[(df[\"City\"]==\"Kharagpur\")]\n",
    "df_Kharagpur\n",
    "Relational_Kharagpur_mean = df_Kharagpur.loc[:, \"Relational\"].mean()\n",
    "\n",
    "df_Mangalore = df.loc[(df[\"City\"]==\"Mangalore\")]\n",
    "df_Mangalore\n",
    "Relational_Mangalore_mean = df_Mangalore.loc[:, \"Relational\"].mean()\n",
    "\n",
    "df_Mumbai = df.loc[(df[\"City\"]==\"Mumbai\")]\n",
    "df_Mumbai\n",
    "Relational_Mumbai_mean = df_Mumbai.loc[:, \"Relational\"].mean()\n",
    "\n",
    "df_Pilani = df.loc[(df[\"City\"]==\"Pilani\")]\n",
    "df_Pilani\n",
    "Relational_Pilani_mean = df_Pilani.loc[:, \"Relational\"].mean()\n",
    "\n",
    "df_Pune = df.loc[(df[\"City\"]==\"Pune\")]\n",
    "df_Pune\n",
    "Relational_Pune_mean = df_Pune.loc[:, \"Relational\"].mean()\n",
    "\n",
    "df_Tiruchirappalli = df.loc[(df[\"City\"]==\"Tiruchirappalli\")]\n",
    "df_Tiruchirappalli\n",
    "Relational_Tiruchirappalli_mean = df_Tiruchirappalli.loc[:, \"Relational\"].mean()\n",
    "\n",
    "df_Vellore = df.loc[(df[\"City\"]==\"Vellore\")]\n",
    "df_Vellore\n",
    "Relational_Vellore_mean = df_Vellore.loc[:, \"Relational\"].mean()"
   ]
  },
  {
   "cell_type": "code",
   "execution_count": 231,
   "id": "66bcef14",
   "metadata": {},
   "outputs": [],
   "source": [
    "df_Relational_mean= pd.DataFrame({'City':[\"Bangalore\", \"Bhopal\", \"Chennai\", \"Delhi\", 'Guwahati', 'Hyderabad', 'Indore', 'Kanpur', 'Kharagpur', 'Mangalore', 'Mumbai', 'Pilani', 'Pune', 'Tiruchirapalli', 'Vellore', 'Indore'],\"City's Relational Support\":[Relational_Bangalore_mean, Relational_Bhopal_mean, Relational_Chennai_mean, Relational_Delhi_mean, Relational_Guwahati_mean, Relational_Hyderabad_mean, Relational_Indore_mean, Relational_Kanpur_mean, Relational_Kharagpur_mean, Relational_Mangalore_mean, Relational_Mumbai_mean, Relational_Pilani_mean, Relational_Pune_mean, Relational_Tiruchirappalli_mean, Relational_Vellore_mean, Relational_Indore_mean]})\n",
    "df_Relational_mean = df_Relational_mean.sort_values(\"City's Relational Support\", ascending=False)"
   ]
  },
  {
   "cell_type": "code",
   "execution_count": 233,
   "id": "4127647b",
   "metadata": {},
   "outputs": [
    {
     "data": {
      "text/plain": [
       "<AxesSubplot:xlabel=\"City's Relational Support\", ylabel='City'>"
      ]
     },
     "execution_count": 233,
     "metadata": {},
     "output_type": "execute_result"
    },
    {
     "data": {
      "image/png": "[encoded data removed]",
      "text/plain": [
       "<Figure size 432x288 with 1 Axes>"
      ]
     },
     "metadata": {},
     "output_type": "display_data"
    }
   ],
   "source": [
    "sns.barplot(x=\"City's Relational Support\", y=\"City\", data=df_Relational_mean,\n",
    "            label=\"Total\", palette=\"bright\")"
   ]
  },
  {
   "cell_type": "code",
   "execution_count": 261,
   "id": "9a1b8d0b",
   "metadata": {},
   "outputs": [
    {
     "data": {
      "image/png": "[encoded data removed]",
      "text/plain": [
       "<Figure size 432x288 with 1 Axes>"
      ]
     },
     "metadata": {},
     "output_type": "display_data"
    }
   ],
   "source": [
    "dups = df1.pivot_table(index = ['  Is anyone from your family into Entrepreneurship?  '], aggfunc ='size')\n",
    "dups = pd.DataFrame(dups)\n",
    "\n",
    "\n",
    "fig1, ax1 = plt.subplots()\n",
    "ax1.pie(dups[0], labels=[\"Father\", \"Grandparents\", \"Mother\", \"No one\", \"Siblings\"], autopct='%1.1f%%', startangle=90)\n",
    "ax1.axis('equal')\n",
    "\n",
    "plt.show()"
   ]
  },
  {
   "cell_type": "code",
   "execution_count": 256,
   "id": "5e55d0cc",
   "metadata": {},
   "outputs": [
    {
     "data": {
      "text/html": [
       "<div>\n",
       "<style scoped>\n",
       "    .dataframe tbody tr th:only-of-type {\n",
       "        vertical-align: middle;\n",
       "    }\n",
       "\n",
       "    .dataframe tbody tr th {\n",
       "        vertical-align: top;\n",
       "    }\n",
       "\n",
       "    .dataframe thead th {\n",
       "        text-align: right;\n",
       "    }\n",
       "</style>\n",
       "<table border=\"1\" class=\"dataframe\">\n",
       "  <thead>\n",
       "    <tr style=\"text-align: right;\">\n",
       "      <th></th>\n",
       "      <th>0</th>\n",
       "    </tr>\n",
       "    <tr>\n",
       "      <th>Is anyone from your family into Entrepreneurship?</th>\n",
       "      <th></th>\n",
       "    </tr>\n",
       "  </thead>\n",
       "  <tbody>\n",
       "    <tr>\n",
       "      <th>Father</th>\n",
       "      <td>88</td>\n",
       "    </tr>\n",
       "    <tr>\n",
       "      <th>Grandparents</th>\n",
       "      <td>20</td>\n",
       "    </tr>\n",
       "    <tr>\n",
       "      <th>Mother</th>\n",
       "      <td>15</td>\n",
       "    </tr>\n",
       "    <tr>\n",
       "      <th>No One</th>\n",
       "      <td>352</td>\n",
       "    </tr>\n",
       "    <tr>\n",
       "      <th>Sibling</th>\n",
       "      <td>26</td>\n",
       "    </tr>\n",
       "  </tbody>\n",
       "</table>\n",
       "</div>"
      ],
      "text/plain": [
       "                                                      0\n",
       "  Is anyone from your family into Entrepreneurs...     \n",
       "Father                                               88\n",
       "Grandparents                                         20\n",
       "Mother                                               15\n",
       "No One                                              352\n",
       "Sibling                                              26"
      ]
     },
     "execution_count": 256,
     "metadata": {},
     "output_type": "execute_result"
    }
   ],
   "source": [
    "dups"
   ]
  },
  {
   "cell_type": "code",
   "execution_count": null,
   "id": "59bd16aa",
   "metadata": {},
   "outputs": [],
   "source": []
  },
  {
   "cell_type": "code",
   "execution_count": null,
   "id": "37630287",
   "metadata": {},
   "outputs": [],
   "source": []
  },
  {
   "cell_type": "code",
   "execution_count": null,
   "id": "7848c9b8",
   "metadata": {},
   "outputs": [],
   "source": []
  },
  {
   "cell_type": "code",
   "execution_count": null,
   "id": "1aefe076",
   "metadata": {},
   "outputs": [],
   "source": []
  },
  {
   "cell_type": "code",
   "execution_count": null,
   "id": "7e1adf90",
   "metadata": {},
   "outputs": [],
   "source": []
  },
  {
   "cell_type": "code",
   "execution_count": null,
   "id": "510bb0e4",
   "metadata": {},
   "outputs": [],
   "source": []
  },
  {
   "cell_type": "code",
   "execution_count": null,
   "id": "5aeecb98",
   "metadata": {},
   "outputs": [],
   "source": []
  },
  {
   "cell_type": "code",
   "execution_count": null,
   "id": "7df3127e",
   "metadata": {},
   "outputs": [],
   "source": []
  },
  {
   "cell_type": "code",
   "execution_count": null,
   "id": "26da2602",
   "metadata": {},
   "outputs": [],
   "source": []
  },
  {
   "cell_type": "code",
   "execution_count": null,
   "id": "3b031559",
   "metadata": {},
   "outputs": [],
   "source": []
  },
  {
   "cell_type": "code",
   "execution_count": null,
   "id": "c07d2a9a",
   "metadata": {},
   "outputs": [],
   "source": []
  },
  {
   "cell_type": "code",
   "execution_count": null,
   "id": "4ceaaeaf",
   "metadata": {},
   "outputs": [],
   "source": []
  },
  {
   "cell_type": "code",
   "execution_count": null,
   "id": "ad490a50",
   "metadata": {},
   "outputs": [],
   "source": []
  },
  {
   "cell_type": "code",
   "execution_count": null,
   "id": "d38454a6",
   "metadata": {},
   "outputs": [],
   "source": []
  },
  {
   "cell_type": "code",
   "execution_count": null,
   "id": "d1b0df8a",
   "metadata": {},
   "outputs": [],
   "source": []
  },
  {
   "cell_type": "code",
   "execution_count": null,
   "id": "39986e9d",
   "metadata": {},
   "outputs": [],
   "source": []
  },
  {
   "cell_type": "code",
   "execution_count": null,
   "id": "ddd7129a",
   "metadata": {},
   "outputs": [],
   "source": []
  },
  {
   "cell_type": "code",
   "execution_count": null,
   "id": "58695f53",
   "metadata": {},
   "outputs": [],
   "source": []
  },
  {
   "cell_type": "code",
   "execution_count": null,
   "id": "2326a97e",
   "metadata": {},
   "outputs": [],
   "source": []
  },
  {
   "cell_type": "code",
   "execution_count": null,
   "id": "745d0d9e",
   "metadata": {},
   "outputs": [],
   "source": []
  },
  {
   "cell_type": "code",
   "execution_count": null,
   "id": "a5802428",
   "metadata": {},
   "outputs": [],
   "source": []
  },
  {
   "cell_type": "code",
   "execution_count": null,
   "id": "a493519e",
   "metadata": {},
   "outputs": [],
   "source": []
  },
  {
   "cell_type": "code",
   "execution_count": null,
   "id": "0a840ab6",
   "metadata": {},
   "outputs": [],
   "source": []
  },
  {
   "cell_type": "code",
   "execution_count": null,
   "id": "c174feff",
   "metadata": {},
   "outputs": [],
   "source": []
  },
  {
   "cell_type": "code",
   "execution_count": null,
   "id": "1754b7ac",
   "metadata": {},
   "outputs": [],
   "source": []
  },
  {
   "cell_type": "code",
   "execution_count": null,
   "id": "3ac596e3",
   "metadata": {},
   "outputs": [],
   "source": []
  },
  {
   "cell_type": "code",
   "execution_count": null,
   "id": "28126c52",
   "metadata": {},
   "outputs": [],
   "source": []
  },
  {
   "cell_type": "code",
   "execution_count": null,
   "id": "57a48fa5",
   "metadata": {},
   "outputs": [],
   "source": []
  }
 ],
 "metadata": {
  "kernelspec": {
   "display_name": "Python 3 (ipykernel)",
   "language": "python",
   "name": "python3"
  },
  "language_info": {
   "codemirror_mode": {
    "name": "ipython",
    "version": 3
   },
   "file_extension": ".py",
   "mimetype": "text/x-python",
   "name": "python",
   "nbconvert_exporter": "python",
   "pygments_lexer": "ipython3",
   "version": "3.9.7"
  }
 },
 "nbformat": 4,
 "nbformat_minor": 5
}
