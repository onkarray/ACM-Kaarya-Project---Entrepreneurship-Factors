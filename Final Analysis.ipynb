{
 "cells": [
  {
   "cell_type": "markdown",
   "id": "18810579",
   "metadata": {},
   "source": [
    "### Importing and cleaning data"
   ]
  },
  {
   "cell_type": "code",
   "execution_count": 1,
   "id": "26dff8c2",
   "metadata": {},
   "outputs": [],
   "source": [
    "#importing numpy for mathematical functions\n",
    "import numpy as np\n",
    "#importing pandas for data extraction and organisation\n",
    "import pandas as pd"
   ]
  },
  {
   "cell_type": "code",
   "execution_count": 2,
   "id": "d537307e",
   "metadata": {},
   "outputs": [
    {
     "data": {
      "text/html": [
       "<div>\n",
       "<style scoped>\n",
       "    .dataframe tbody tr th:only-of-type {\n",
       "        vertical-align: middle;\n",
       "    }\n",
       "\n",
       "    .dataframe tbody tr th {\n",
       "        vertical-align: top;\n",
       "    }\n",
       "\n",
       "    .dataframe thead th {\n",
       "        text-align: right;\n",
       "    }\n",
       "</style>\n",
       "<table border=\"1\" class=\"dataframe\">\n",
       "  <thead>\n",
       "    <tr style=\"text-align: right;\">\n",
       "      <th></th>\n",
       "      <th>Timestamp</th>\n",
       "      <th>Which college are you from?</th>\n",
       "      <th>City</th>\n",
       "      <th>Public/Private</th>\n",
       "      <th>CAPS</th>\n",
       "      <th>KEY</th>\n",
       "      <th>Education</th>\n",
       "      <th>Is anyone from your family into Entrepreneurship?</th>\n",
       "      <th>Which year of college are you in currently?</th>\n",
       "      <th>It’s easy to find the right mentor in college for my startup.</th>\n",
       "      <th>...</th>\n",
       "      <th>diff_Q6</th>\n",
       "      <th>diff_Q7</th>\n",
       "      <th>diff_Q8</th>\n",
       "      <th>diff_Q9</th>\n",
       "      <th>Educational</th>\n",
       "      <th>Relational</th>\n",
       "      <th>Structural</th>\n",
       "      <th>diff_Edu</th>\n",
       "      <th>diff_Rel</th>\n",
       "      <th>diff_Str</th>\n",
       "    </tr>\n",
       "  </thead>\n",
       "  <tbody>\n",
       "    <tr>\n",
       "      <th>0</th>\n",
       "      <td>3-13-2023 15:44:10</td>\n",
       "      <td>Jamia Milia Islamia</td>\n",
       "      <td>Delhi</td>\n",
       "      <td>Public</td>\n",
       "      <td>Jamia Milia Islamia</td>\n",
       "      <td>1</td>\n",
       "      <td>Engineering, Science, Management, Design and H...</td>\n",
       "      <td>Mother</td>\n",
       "      <td>2</td>\n",
       "      <td>1</td>\n",
       "      <td>...</td>\n",
       "      <td>-1</td>\n",
       "      <td>1</td>\n",
       "      <td>0</td>\n",
       "      <td>-3</td>\n",
       "      <td>1.00</td>\n",
       "      <td>3.00</td>\n",
       "      <td>2.67</td>\n",
       "      <td>1.00</td>\n",
       "      <td>-1.00</td>\n",
       "      <td>-0.67</td>\n",
       "    </tr>\n",
       "    <tr>\n",
       "      <th>1</th>\n",
       "      <td>3-13-2023 15:43:09</td>\n",
       "      <td>Jamia Milia Islamia</td>\n",
       "      <td>Delhi</td>\n",
       "      <td>Public</td>\n",
       "      <td>JAMIA MILIA ISLAMIA</td>\n",
       "      <td>1</td>\n",
       "      <td>Engineering, Science, Management, Design and H...</td>\n",
       "      <td>No One</td>\n",
       "      <td>3</td>\n",
       "      <td>1</td>\n",
       "      <td>...</td>\n",
       "      <td>-2</td>\n",
       "      <td>0</td>\n",
       "      <td>-1</td>\n",
       "      <td>-3</td>\n",
       "      <td>1.00</td>\n",
       "      <td>1.67</td>\n",
       "      <td>2.33</td>\n",
       "      <td>0.00</td>\n",
       "      <td>-0.67</td>\n",
       "      <td>-1.33</td>\n",
       "    </tr>\n",
       "    <tr>\n",
       "      <th>2</th>\n",
       "      <td>3-13-2023 16:05:43</td>\n",
       "      <td>Hindu college</td>\n",
       "      <td>Delhi</td>\n",
       "      <td>Public</td>\n",
       "      <td>HINDU COLLEGE</td>\n",
       "      <td>2</td>\n",
       "      <td>Engineering, Science, Management, Design and H...</td>\n",
       "      <td>No One</td>\n",
       "      <td>2</td>\n",
       "      <td>3</td>\n",
       "      <td>...</td>\n",
       "      <td>-2</td>\n",
       "      <td>-3</td>\n",
       "      <td>-1</td>\n",
       "      <td>-4</td>\n",
       "      <td>3.00</td>\n",
       "      <td>3.00</td>\n",
       "      <td>3.67</td>\n",
       "      <td>-2.00</td>\n",
       "      <td>-2.00</td>\n",
       "      <td>-2.67</td>\n",
       "    </tr>\n",
       "    <tr>\n",
       "      <th>3</th>\n",
       "      <td>3-13-2023 16:06:36</td>\n",
       "      <td>Hindu College</td>\n",
       "      <td>Delhi</td>\n",
       "      <td>Public</td>\n",
       "      <td>HINDU COLLEGE</td>\n",
       "      <td>2</td>\n",
       "      <td>Engineering, Science, Management, Design and H...</td>\n",
       "      <td>Father</td>\n",
       "      <td>4</td>\n",
       "      <td>3</td>\n",
       "      <td>...</td>\n",
       "      <td>0</td>\n",
       "      <td>0</td>\n",
       "      <td>2</td>\n",
       "      <td>0</td>\n",
       "      <td>3.00</td>\n",
       "      <td>5.00</td>\n",
       "      <td>4.33</td>\n",
       "      <td>2.00</td>\n",
       "      <td>0.00</td>\n",
       "      <td>0.67</td>\n",
       "    </tr>\n",
       "    <tr>\n",
       "      <th>4</th>\n",
       "      <td>3-13-2023 16:13:38</td>\n",
       "      <td>Anna University</td>\n",
       "      <td>Chennai</td>\n",
       "      <td>Public</td>\n",
       "      <td>ANNA UNIVERSITY</td>\n",
       "      <td>3</td>\n",
       "      <td>Engineering, Science, Management, Design and H...</td>\n",
       "      <td>No One</td>\n",
       "      <td>1</td>\n",
       "      <td>2</td>\n",
       "      <td>...</td>\n",
       "      <td>0</td>\n",
       "      <td>-3</td>\n",
       "      <td>-2</td>\n",
       "      <td>-1</td>\n",
       "      <td>1.67</td>\n",
       "      <td>3.00</td>\n",
       "      <td>3.00</td>\n",
       "      <td>-0.67</td>\n",
       "      <td>-2.00</td>\n",
       "      <td>-2.00</td>\n",
       "    </tr>\n",
       "  </tbody>\n",
       "</table>\n",
       "<p>5 rows × 34 columns</p>\n",
       "</div>"
      ],
      "text/plain": [
       "            Timestamp Which college are you from?     City Public/Private  \\\n",
       "0  3-13-2023 15:44:10         Jamia Milia Islamia    Delhi         Public   \n",
       "1  3-13-2023 15:43:09        Jamia Milia Islamia     Delhi         Public   \n",
       "2  3-13-2023 16:05:43              Hindu college     Delhi         Public   \n",
       "3  3-13-2023 16:06:36              Hindu College     Delhi         Public   \n",
       "4  3-13-2023 16:13:38            Anna University   Chennai         Public   \n",
       "\n",
       "                   CAPS KEY  \\\n",
       "0   Jamia Milia Islamia   1   \n",
       "1  JAMIA MILIA ISLAMIA    1   \n",
       "2        HINDU COLLEGE    2   \n",
       "3        HINDU COLLEGE    2   \n",
       "4      ANNA UNIVERSITY    3   \n",
       "\n",
       "                                           Education  \\\n",
       "0  Engineering, Science, Management, Design and H...   \n",
       "1  Engineering, Science, Management, Design and H...   \n",
       "2  Engineering, Science, Management, Design and H...   \n",
       "3  Engineering, Science, Management, Design and H...   \n",
       "4  Engineering, Science, Management, Design and H...   \n",
       "\n",
       "    Is anyone from your family into Entrepreneurship?    \\\n",
       "0                                             Mother      \n",
       "1                                             No One      \n",
       "2                                             No One      \n",
       "3                                             Father      \n",
       "4                                             No One      \n",
       "\n",
       "   Which year of college are you in currently?   \\\n",
       "0                                             2   \n",
       "1                                             3   \n",
       "2                                             2   \n",
       "3                                             4   \n",
       "4                                             1   \n",
       "\n",
       "   It’s easy to find the right mentor in college for my startup.   ...  \\\n",
       "0                                                  1               ...   \n",
       "1                                                  1               ...   \n",
       "2                                                  3               ...   \n",
       "3                                                  3               ...   \n",
       "4                                                  2               ...   \n",
       "\n",
       "   diff_Q6  diff_Q7  diff_Q8  diff_Q9  Educational  Relational  Structural  \\\n",
       "0       -1        1        0       -3         1.00        3.00        2.67   \n",
       "1       -2        0       -1       -3         1.00        1.67        2.33   \n",
       "2       -2       -3       -1       -4         3.00        3.00        3.67   \n",
       "3        0        0        2        0         3.00        5.00        4.33   \n",
       "4        0       -3       -2       -1         1.67        3.00        3.00   \n",
       "\n",
       "   diff_Edu  diff_Rel  diff_Str  \n",
       "0      1.00     -1.00     -0.67  \n",
       "1      0.00     -0.67     -1.33  \n",
       "2     -2.00     -2.00     -2.67  \n",
       "3      2.00      0.00      0.67  \n",
       "4     -0.67     -2.00     -2.00  \n",
       "\n",
       "[5 rows x 34 columns]"
      ]
     },
     "execution_count": 2,
     "metadata": {},
     "output_type": "execute_result"
    }
   ],
   "source": [
    "#importing from github\n",
    "df = pd.read_csv('https://raw.githubusercontent.com/S-Shrey-09/Entrepreneurship-Factors/main/Survey%20Responses_final.csv')\n",
    "df.head()"
   ]
  },
  {
   "cell_type": "markdown",
   "id": "d4be1566",
   "metadata": {},
   "source": [
    "### Creating a new DataFrame with the required columns"
   ]
  },
  {
   "cell_type": "code",
   "execution_count": 3,
   "id": "9bccb8a5",
   "metadata": {},
   "outputs": [
    {
     "data": {
      "text/html": [
       "<div>\n",
       "<style scoped>\n",
       "    .dataframe tbody tr th:only-of-type {\n",
       "        vertical-align: middle;\n",
       "    }\n",
       "\n",
       "    .dataframe tbody tr th {\n",
       "        vertical-align: top;\n",
       "    }\n",
       "\n",
       "    .dataframe thead th {\n",
       "        text-align: right;\n",
       "    }\n",
       "</style>\n",
       "<table border=\"1\" class=\"dataframe\">\n",
       "  <thead>\n",
       "    <tr style=\"text-align: right;\">\n",
       "      <th></th>\n",
       "      <th>Which college are you from?</th>\n",
       "      <th>City</th>\n",
       "      <th>Public/Private</th>\n",
       "      <th>KEY</th>\n",
       "      <th>Education</th>\n",
       "      <th>Is anyone from your family into Entrepreneurship?</th>\n",
       "      <th>Which year of college are you in currently?</th>\n",
       "      <th>It’s easy to find the right mentor in college for my startup.</th>\n",
       "      <th>My college and college clubs develop my entrepreneurial skills and abilities</th>\n",
       "      <th>My institution has introduced courses in order to keep us in touch with growing wave of entrepreneurship in the country</th>\n",
       "      <th>...</th>\n",
       "      <th>diff_Q6</th>\n",
       "      <th>diff_Q7</th>\n",
       "      <th>diff_Q8</th>\n",
       "      <th>diff_Q9</th>\n",
       "      <th>Educational</th>\n",
       "      <th>Relational</th>\n",
       "      <th>Structural</th>\n",
       "      <th>diff_Edu</th>\n",
       "      <th>diff_Rel</th>\n",
       "      <th>diff_Str</th>\n",
       "    </tr>\n",
       "  </thead>\n",
       "  <tbody>\n",
       "    <tr>\n",
       "      <th>496</th>\n",
       "      <td>Sggs nanded</td>\n",
       "      <td>Nanded</td>\n",
       "      <td>Private</td>\n",
       "      <td>136</td>\n",
       "      <td>NaN</td>\n",
       "      <td>No One</td>\n",
       "      <td>1</td>\n",
       "      <td>4</td>\n",
       "      <td>3</td>\n",
       "      <td>4</td>\n",
       "      <td>...</td>\n",
       "      <td>2</td>\n",
       "      <td>3</td>\n",
       "      <td>2</td>\n",
       "      <td>3</td>\n",
       "      <td>3.67</td>\n",
       "      <td>2.67</td>\n",
       "      <td>1.33</td>\n",
       "      <td>0.33</td>\n",
       "      <td>1.33</td>\n",
       "      <td>2.67</td>\n",
       "    </tr>\n",
       "    <tr>\n",
       "      <th>497</th>\n",
       "      <td>Sri krishna</td>\n",
       "      <td>Bangalore</td>\n",
       "      <td>Public</td>\n",
       "      <td>137</td>\n",
       "      <td>NaN</td>\n",
       "      <td>No One</td>\n",
       "      <td>2</td>\n",
       "      <td>1</td>\n",
       "      <td>2</td>\n",
       "      <td>2</td>\n",
       "      <td>...</td>\n",
       "      <td>0</td>\n",
       "      <td>1</td>\n",
       "      <td>1</td>\n",
       "      <td>0</td>\n",
       "      <td>1.67</td>\n",
       "      <td>1.33</td>\n",
       "      <td>1.33</td>\n",
       "      <td>0.33</td>\n",
       "      <td>0.67</td>\n",
       "      <td>0.67</td>\n",
       "    </tr>\n",
       "    <tr>\n",
       "      <th>498</th>\n",
       "      <td>Sri Venkateswara College</td>\n",
       "      <td>Delhi</td>\n",
       "      <td>Public</td>\n",
       "      <td>138</td>\n",
       "      <td>NaN</td>\n",
       "      <td>No One</td>\n",
       "      <td>3</td>\n",
       "      <td>3</td>\n",
       "      <td>2</td>\n",
       "      <td>4</td>\n",
       "      <td>...</td>\n",
       "      <td>-1</td>\n",
       "      <td>1</td>\n",
       "      <td>0</td>\n",
       "      <td>-1</td>\n",
       "      <td>3.00</td>\n",
       "      <td>3.33</td>\n",
       "      <td>4.00</td>\n",
       "      <td>1.00</td>\n",
       "      <td>0.67</td>\n",
       "      <td>0.00</td>\n",
       "    </tr>\n",
       "    <tr>\n",
       "      <th>499</th>\n",
       "      <td>University of engineering and management</td>\n",
       "      <td>Kolkata</td>\n",
       "      <td>Public</td>\n",
       "      <td>139</td>\n",
       "      <td>NaN</td>\n",
       "      <td>No One</td>\n",
       "      <td>2</td>\n",
       "      <td>1</td>\n",
       "      <td>1</td>\n",
       "      <td>1</td>\n",
       "      <td>...</td>\n",
       "      <td>3</td>\n",
       "      <td>3</td>\n",
       "      <td>2</td>\n",
       "      <td>1</td>\n",
       "      <td>1.00</td>\n",
       "      <td>2.00</td>\n",
       "      <td>3.00</td>\n",
       "      <td>4.00</td>\n",
       "      <td>3.00</td>\n",
       "      <td>2.00</td>\n",
       "    </tr>\n",
       "    <tr>\n",
       "      <th>500</th>\n",
       "      <td>Vjti</td>\n",
       "      <td>Mumbai</td>\n",
       "      <td>Public</td>\n",
       "      <td>140</td>\n",
       "      <td>NaN</td>\n",
       "      <td>No One</td>\n",
       "      <td>2</td>\n",
       "      <td>3</td>\n",
       "      <td>4</td>\n",
       "      <td>2</td>\n",
       "      <td>...</td>\n",
       "      <td>-1</td>\n",
       "      <td>0</td>\n",
       "      <td>0</td>\n",
       "      <td>0</td>\n",
       "      <td>3.00</td>\n",
       "      <td>4.00</td>\n",
       "      <td>3.00</td>\n",
       "      <td>0.00</td>\n",
       "      <td>-1.00</td>\n",
       "      <td>0.00</td>\n",
       "    </tr>\n",
       "  </tbody>\n",
       "</table>\n",
       "<p>5 rows × 32 columns</p>\n",
       "</div>"
      ],
      "text/plain": [
       "                  Which college are you from?       City Public/Private  KEY  \\\n",
       "496                               Sggs nanded     Nanded        Private  136   \n",
       "497                               Sri krishna  Bangalore         Public  137   \n",
       "498                 Sri Venkateswara College       Delhi         Public  138   \n",
       "499  University of engineering and management    Kolkata         Public  139   \n",
       "500                                      Vjti     Mumbai         Public  140   \n",
       "\n",
       "    Education   Is anyone from your family into Entrepreneurship?    \\\n",
       "496       NaN                                             No One      \n",
       "497       NaN                                             No One      \n",
       "498       NaN                                             No One      \n",
       "499       NaN                                             No One      \n",
       "500       NaN                                             No One      \n",
       "\n",
       "     Which year of college are you in currently?   \\\n",
       "496                                             1   \n",
       "497                                             2   \n",
       "498                                             3   \n",
       "499                                             2   \n",
       "500                                             2   \n",
       "\n",
       "     It’s easy to find the right mentor in college for my startup.   \\\n",
       "496                                                  4                \n",
       "497                                                  1                \n",
       "498                                                  3                \n",
       "499                                                  1                \n",
       "500                                                  3                \n",
       "\n",
       "     My college and college clubs develop my entrepreneurial skills and abilities   \\\n",
       "496                                                  3                               \n",
       "497                                                  2                               \n",
       "498                                                  2                               \n",
       "499                                                  1                               \n",
       "500                                                  4                               \n",
       "\n",
       "     My institution has introduced courses in order to keep us in touch with growing wave of entrepreneurship in the country   \\\n",
       "496                                                  4                                                                          \n",
       "497                                                  2                                                                          \n",
       "498                                                  4                                                                          \n",
       "499                                                  1                                                                          \n",
       "500                                                  2                                                                          \n",
       "\n",
       "     ...  diff_Q6  diff_Q7  diff_Q8  diff_Q9  Educational  Relational  \\\n",
       "496  ...        2        3        2        3         3.67        2.67   \n",
       "497  ...        0        1        1        0         1.67        1.33   \n",
       "498  ...       -1        1        0       -1         3.00        3.33   \n",
       "499  ...        3        3        2        1         1.00        2.00   \n",
       "500  ...       -1        0        0        0         3.00        4.00   \n",
       "\n",
       "     Structural  diff_Edu  diff_Rel  diff_Str  \n",
       "496        1.33      0.33      1.33      2.67  \n",
       "497        1.33      0.33      0.67      0.67  \n",
       "498        4.00      1.00      0.67      0.00  \n",
       "499        3.00      4.00      3.00      2.00  \n",
       "500        3.00      0.00     -1.00      0.00  \n",
       "\n",
       "[5 rows x 32 columns]"
      ]
     },
     "execution_count": 3,
     "metadata": {},
     "output_type": "execute_result"
    }
   ],
   "source": [
    "cols = list(df.columns)\n",
    "df1 = df[cols[1:4]+cols[5:]]\n",
    "df1.head()\n",
    "df1.tail()"
   ]
  },
  {
   "cell_type": "code",
   "execution_count": 4,
   "id": "8a64aa58",
   "metadata": {},
   "outputs": [
    {
     "data": {
      "text/html": [
       "<div>\n",
       "<style scoped>\n",
       "    .dataframe tbody tr th:only-of-type {\n",
       "        vertical-align: middle;\n",
       "    }\n",
       "\n",
       "    .dataframe tbody tr th {\n",
       "        vertical-align: top;\n",
       "    }\n",
       "\n",
       "    .dataframe thead th {\n",
       "        text-align: right;\n",
       "    }\n",
       "</style>\n",
       "<table border=\"1\" class=\"dataframe\">\n",
       "  <thead>\n",
       "    <tr style=\"text-align: right;\">\n",
       "      <th></th>\n",
       "      <th>Which year of college are you in currently?</th>\n",
       "      <th>It’s easy to find the right mentor in college for my startup.</th>\n",
       "      <th>My college and college clubs develop my entrepreneurial skills and abilities</th>\n",
       "      <th>My institution has introduced courses in order to keep us in touch with growing wave of entrepreneurship in the country</th>\n",
       "      <th>My family would support me if I shift my focus to unconventional or entrepreneurial activities</th>\n",
       "      <th>If I decide to be an entrepreneur family support will be an important factor for me</th>\n",
       "      <th>I’ll readily get mental and executional support from my peers for my venture</th>\n",
       "      <th>It is easy for me to get funding for my startup from alumni or outside</th>\n",
       "      <th>My country has created an ecosystem that enables young entrepreneurs to pursue their passion</th>\n",
       "      <th>My college is located in a city which is active in entrepreneurship</th>\n",
       "      <th>...</th>\n",
       "      <th>diff_Q6</th>\n",
       "      <th>diff_Q7</th>\n",
       "      <th>diff_Q8</th>\n",
       "      <th>diff_Q9</th>\n",
       "      <th>Educational</th>\n",
       "      <th>Relational</th>\n",
       "      <th>Structural</th>\n",
       "      <th>diff_Edu</th>\n",
       "      <th>diff_Rel</th>\n",
       "      <th>diff_Str</th>\n",
       "    </tr>\n",
       "  </thead>\n",
       "  <tbody>\n",
       "    <tr>\n",
       "      <th>count</th>\n",
       "      <td>501.000000</td>\n",
       "      <td>501.000000</td>\n",
       "      <td>501.000000</td>\n",
       "      <td>501.000000</td>\n",
       "      <td>501.000000</td>\n",
       "      <td>501.000000</td>\n",
       "      <td>501.000000</td>\n",
       "      <td>501.000000</td>\n",
       "      <td>501.000000</td>\n",
       "      <td>501.000000</td>\n",
       "      <td>...</td>\n",
       "      <td>501.000000</td>\n",
       "      <td>501.000000</td>\n",
       "      <td>501.000000</td>\n",
       "      <td>501.000000</td>\n",
       "      <td>501.000000</td>\n",
       "      <td>501.000000</td>\n",
       "      <td>501.000000</td>\n",
       "      <td>501.000000</td>\n",
       "      <td>501.000000</td>\n",
       "      <td>501.000000</td>\n",
       "    </tr>\n",
       "    <tr>\n",
       "      <th>mean</th>\n",
       "      <td>2.373253</td>\n",
       "      <td>3.175649</td>\n",
       "      <td>3.403194</td>\n",
       "      <td>3.021956</td>\n",
       "      <td>3.544910</td>\n",
       "      <td>4.143713</td>\n",
       "      <td>3.760479</td>\n",
       "      <td>3.311377</td>\n",
       "      <td>3.447106</td>\n",
       "      <td>3.169661</td>\n",
       "      <td>...</td>\n",
       "      <td>-0.369261</td>\n",
       "      <td>0.079840</td>\n",
       "      <td>-0.055888</td>\n",
       "      <td>0.221557</td>\n",
       "      <td>3.200399</td>\n",
       "      <td>3.816347</td>\n",
       "      <td>3.309281</td>\n",
       "      <td>0.190818</td>\n",
       "      <td>-0.425130</td>\n",
       "      <td>0.081936</td>\n",
       "    </tr>\n",
       "    <tr>\n",
       "      <th>std</th>\n",
       "      <td>0.941490</td>\n",
       "      <td>1.115834</td>\n",
       "      <td>1.084947</td>\n",
       "      <td>1.239967</td>\n",
       "      <td>1.124491</td>\n",
       "      <td>0.962967</td>\n",
       "      <td>0.898062</td>\n",
       "      <td>1.125544</td>\n",
       "      <td>1.001847</td>\n",
       "      <td>1.334600</td>\n",
       "      <td>...</td>\n",
       "      <td>1.218759</td>\n",
       "      <td>1.279692</td>\n",
       "      <td>1.241318</td>\n",
       "      <td>1.502270</td>\n",
       "      <td>0.978042</td>\n",
       "      <td>0.717528</td>\n",
       "      <td>0.879295</td>\n",
       "      <td>1.342282</td>\n",
       "      <td>1.070824</td>\n",
       "      <td>1.111125</td>\n",
       "    </tr>\n",
       "    <tr>\n",
       "      <th>min</th>\n",
       "      <td>1.000000</td>\n",
       "      <td>1.000000</td>\n",
       "      <td>1.000000</td>\n",
       "      <td>1.000000</td>\n",
       "      <td>1.000000</td>\n",
       "      <td>1.000000</td>\n",
       "      <td>1.000000</td>\n",
       "      <td>1.000000</td>\n",
       "      <td>1.000000</td>\n",
       "      <td>1.000000</td>\n",
       "      <td>...</td>\n",
       "      <td>-4.000000</td>\n",
       "      <td>-4.000000</td>\n",
       "      <td>-4.000000</td>\n",
       "      <td>-4.000000</td>\n",
       "      <td>1.000000</td>\n",
       "      <td>1.330000</td>\n",
       "      <td>1.000000</td>\n",
       "      <td>-4.000000</td>\n",
       "      <td>-4.000000</td>\n",
       "      <td>-4.000000</td>\n",
       "    </tr>\n",
       "    <tr>\n",
       "      <th>25%</th>\n",
       "      <td>2.000000</td>\n",
       "      <td>2.000000</td>\n",
       "      <td>3.000000</td>\n",
       "      <td>2.000000</td>\n",
       "      <td>3.000000</td>\n",
       "      <td>4.000000</td>\n",
       "      <td>3.000000</td>\n",
       "      <td>3.000000</td>\n",
       "      <td>3.000000</td>\n",
       "      <td>2.000000</td>\n",
       "      <td>...</td>\n",
       "      <td>-1.000000</td>\n",
       "      <td>-1.000000</td>\n",
       "      <td>-1.000000</td>\n",
       "      <td>-1.000000</td>\n",
       "      <td>2.670000</td>\n",
       "      <td>3.330000</td>\n",
       "      <td>2.670000</td>\n",
       "      <td>-0.670000</td>\n",
       "      <td>-1.000000</td>\n",
       "      <td>-0.670000</td>\n",
       "    </tr>\n",
       "    <tr>\n",
       "      <th>50%</th>\n",
       "      <td>2.000000</td>\n",
       "      <td>3.000000</td>\n",
       "      <td>4.000000</td>\n",
       "      <td>3.000000</td>\n",
       "      <td>4.000000</td>\n",
       "      <td>4.000000</td>\n",
       "      <td>4.000000</td>\n",
       "      <td>3.000000</td>\n",
       "      <td>4.000000</td>\n",
       "      <td>3.000000</td>\n",
       "      <td>...</td>\n",
       "      <td>0.000000</td>\n",
       "      <td>0.000000</td>\n",
       "      <td>0.000000</td>\n",
       "      <td>0.000000</td>\n",
       "      <td>3.330000</td>\n",
       "      <td>4.000000</td>\n",
       "      <td>3.330000</td>\n",
       "      <td>0.000000</td>\n",
       "      <td>-0.330000</td>\n",
       "      <td>0.000000</td>\n",
       "    </tr>\n",
       "    <tr>\n",
       "      <th>75%</th>\n",
       "      <td>3.000000</td>\n",
       "      <td>4.000000</td>\n",
       "      <td>4.000000</td>\n",
       "      <td>4.000000</td>\n",
       "      <td>4.000000</td>\n",
       "      <td>5.000000</td>\n",
       "      <td>4.000000</td>\n",
       "      <td>4.000000</td>\n",
       "      <td>4.000000</td>\n",
       "      <td>4.000000</td>\n",
       "      <td>...</td>\n",
       "      <td>0.000000</td>\n",
       "      <td>1.000000</td>\n",
       "      <td>1.000000</td>\n",
       "      <td>1.000000</td>\n",
       "      <td>4.000000</td>\n",
       "      <td>4.330000</td>\n",
       "      <td>4.000000</td>\n",
       "      <td>1.000000</td>\n",
       "      <td>0.330000</td>\n",
       "      <td>0.670000</td>\n",
       "    </tr>\n",
       "    <tr>\n",
       "      <th>max</th>\n",
       "      <td>5.000000</td>\n",
       "      <td>5.000000</td>\n",
       "      <td>5.000000</td>\n",
       "      <td>5.000000</td>\n",
       "      <td>5.000000</td>\n",
       "      <td>5.000000</td>\n",
       "      <td>5.000000</td>\n",
       "      <td>5.000000</td>\n",
       "      <td>5.000000</td>\n",
       "      <td>5.000000</td>\n",
       "      <td>...</td>\n",
       "      <td>4.000000</td>\n",
       "      <td>4.000000</td>\n",
       "      <td>4.000000</td>\n",
       "      <td>4.000000</td>\n",
       "      <td>5.000000</td>\n",
       "      <td>5.000000</td>\n",
       "      <td>5.000000</td>\n",
       "      <td>4.000000</td>\n",
       "      <td>3.000000</td>\n",
       "      <td>4.000000</td>\n",
       "    </tr>\n",
       "  </tbody>\n",
       "</table>\n",
       "<p>8 rows × 26 columns</p>\n",
       "</div>"
      ],
      "text/plain": [
       "       Which year of college are you in currently?   \\\n",
       "count                                    501.000000   \n",
       "mean                                       2.373253   \n",
       "std                                        0.941490   \n",
       "min                                        1.000000   \n",
       "25%                                        2.000000   \n",
       "50%                                        2.000000   \n",
       "75%                                        3.000000   \n",
       "max                                        5.000000   \n",
       "\n",
       "       It’s easy to find the right mentor in college for my startup.   \\\n",
       "count                                         501.000000                \n",
       "mean                                            3.175649                \n",
       "std                                             1.115834                \n",
       "min                                             1.000000                \n",
       "25%                                             2.000000                \n",
       "50%                                             3.000000                \n",
       "75%                                             4.000000                \n",
       "max                                             5.000000                \n",
       "\n",
       "       My college and college clubs develop my entrepreneurial skills and abilities   \\\n",
       "count                                         501.000000                               \n",
       "mean                                            3.403194                               \n",
       "std                                             1.084947                               \n",
       "min                                             1.000000                               \n",
       "25%                                             3.000000                               \n",
       "50%                                             4.000000                               \n",
       "75%                                             4.000000                               \n",
       "max                                             5.000000                               \n",
       "\n",
       "       My institution has introduced courses in order to keep us in touch with growing wave of entrepreneurship in the country   \\\n",
       "count                                         501.000000                                                                          \n",
       "mean                                            3.021956                                                                          \n",
       "std                                             1.239967                                                                          \n",
       "min                                             1.000000                                                                          \n",
       "25%                                             2.000000                                                                          \n",
       "50%                                             3.000000                                                                          \n",
       "75%                                             4.000000                                                                          \n",
       "max                                             5.000000                                                                          \n",
       "\n",
       "       My family would support me if I shift my focus to unconventional or entrepreneurial activities   \\\n",
       "count                                         501.000000                                                 \n",
       "mean                                            3.544910                                                 \n",
       "std                                             1.124491                                                 \n",
       "min                                             1.000000                                                 \n",
       "25%                                             3.000000                                                 \n",
       "50%                                             4.000000                                                 \n",
       "75%                                             4.000000                                                 \n",
       "max                                             5.000000                                                 \n",
       "\n",
       "       If I decide to be an entrepreneur family support will be an important factor for me   \\\n",
       "count                                         501.000000                                      \n",
       "mean                                            4.143713                                      \n",
       "std                                             0.962967                                      \n",
       "min                                             1.000000                                      \n",
       "25%                                             4.000000                                      \n",
       "50%                                             4.000000                                      \n",
       "75%                                             5.000000                                      \n",
       "max                                             5.000000                                      \n",
       "\n",
       "       I’ll readily get mental and executional support from my peers for my venture   \\\n",
       "count                                         501.000000                               \n",
       "mean                                            3.760479                               \n",
       "std                                             0.898062                               \n",
       "min                                             1.000000                               \n",
       "25%                                             3.000000                               \n",
       "50%                                             4.000000                               \n",
       "75%                                             4.000000                               \n",
       "max                                             5.000000                               \n",
       "\n",
       "       It is easy for me to get funding for my startup from alumni or outside   \\\n",
       "count                                         501.000000                         \n",
       "mean                                            3.311377                         \n",
       "std                                             1.125544                         \n",
       "min                                             1.000000                         \n",
       "25%                                             3.000000                         \n",
       "50%                                             3.000000                         \n",
       "75%                                             4.000000                         \n",
       "max                                             5.000000                         \n",
       "\n",
       "       My country has created an ecosystem that enables young entrepreneurs to pursue their passion   \\\n",
       "count                                         501.000000                                               \n",
       "mean                                            3.447106                                               \n",
       "std                                             1.001847                                               \n",
       "min                                             1.000000                                               \n",
       "25%                                             3.000000                                               \n",
       "50%                                             4.000000                                               \n",
       "75%                                             4.000000                                               \n",
       "max                                             5.000000                                               \n",
       "\n",
       "       My college is located in a city which is active in entrepreneurship   \\\n",
       "count                                         501.000000                      \n",
       "mean                                            3.169661                      \n",
       "std                                             1.334600                      \n",
       "min                                             1.000000                      \n",
       "25%                                             2.000000                      \n",
       "50%                                             3.000000                      \n",
       "75%                                             4.000000                      \n",
       "max                                             5.000000                      \n",
       "\n",
       "       ...     diff_Q6     diff_Q7     diff_Q8     diff_Q9  Educational  \\\n",
       "count  ...  501.000000  501.000000  501.000000  501.000000   501.000000   \n",
       "mean   ...   -0.369261    0.079840   -0.055888    0.221557     3.200399   \n",
       "std    ...    1.218759    1.279692    1.241318    1.502270     0.978042   \n",
       "min    ...   -4.000000   -4.000000   -4.000000   -4.000000     1.000000   \n",
       "25%    ...   -1.000000   -1.000000   -1.000000   -1.000000     2.670000   \n",
       "50%    ...    0.000000    0.000000    0.000000    0.000000     3.330000   \n",
       "75%    ...    0.000000    1.000000    1.000000    1.000000     4.000000   \n",
       "max    ...    4.000000    4.000000    4.000000    4.000000     5.000000   \n",
       "\n",
       "       Relational  Structural    diff_Edu    diff_Rel    diff_Str  \n",
       "count  501.000000  501.000000  501.000000  501.000000  501.000000  \n",
       "mean     3.816347    3.309281    0.190818   -0.425130    0.081936  \n",
       "std      0.717528    0.879295    1.342282    1.070824    1.111125  \n",
       "min      1.330000    1.000000   -4.000000   -4.000000   -4.000000  \n",
       "25%      3.330000    2.670000   -0.670000   -1.000000   -0.670000  \n",
       "50%      4.000000    3.330000    0.000000   -0.330000    0.000000  \n",
       "75%      4.330000    4.000000    1.000000    0.330000    0.670000  \n",
       "max      5.000000    5.000000    4.000000    3.000000    4.000000  \n",
       "\n",
       "[8 rows x 26 columns]"
      ]
     },
     "execution_count": 4,
     "metadata": {},
     "output_type": "execute_result"
    }
   ],
   "source": [
    "#Exploratory Data Analysis\n",
    "df1.describe()"
   ]
  },
  {
   "cell_type": "markdown",
   "id": "b37c3813",
   "metadata": {},
   "source": [
    "### Defining column questions with Q1-Q9 and Perceived inetrest in Entrepreneurship as 'Ent' "
   ]
  },
  {
   "cell_type": "code",
   "execution_count": 5,
   "id": "1a1bb004",
   "metadata": {},
   "outputs": [
    {
     "data": {
      "text/plain": [
       "Index(['Which college are you from?', 'City', 'Public/Private', 'KEY',\n",
       "       'Education', '  Is anyone from your family into Entrepreneurship?  ',\n",
       "       'Which year of college are you in currently? ',\n",
       "       'It’s easy to find the right mentor in college for my startup. ',\n",
       "       'My college and college clubs develop my entrepreneurial skills and abilities ',\n",
       "       'My institution has introduced courses in order to keep us in touch with growing wave of entrepreneurship in the country ',\n",
       "       'My family would support me if I shift my focus to unconventional or entrepreneurial activities ',\n",
       "       'If I decide to be an entrepreneur family support will be an important factor for me ',\n",
       "       'I’ll readily get mental and executional support from my peers for my venture ',\n",
       "       'It is easy for me to get funding for my startup from alumni or outside ',\n",
       "       'My country has created an ecosystem that enables young entrepreneurs to pursue their passion ',\n",
       "       'My college is located in a city which is active in entrepreneurship ',\n",
       "       'How likely are you to take up entrepreneurship as a career? ',\n",
       "       'diff_Q1', 'diff_Q2', 'diff_Q3', 'diff_Q4', 'diff_Q5', 'diff_Q6',\n",
       "       'diff_Q7', 'diff_Q8', 'diff_Q9', 'Educational', 'Relational',\n",
       "       'Structural', 'diff_Edu', 'diff_Rel', 'diff_Str'],\n",
       "      dtype='object')"
      ]
     },
     "execution_count": 5,
     "metadata": {},
     "output_type": "execute_result"
    }
   ],
   "source": [
    "df1.columns"
   ]
  },
  {
   "cell_type": "code",
   "execution_count": 6,
   "id": "8606510a",
   "metadata": {},
   "outputs": [],
   "source": [
    "Q1 = \"It’s easy to find the right mentor in college for my startup. \"\n",
    "Q2 = \"My college and college clubs develop my entrepreneurial skills and abilities \"\n",
    "Q3 = \"My institution has introduced courses in order to keep us in touch with growing wave of entrepreneurship in the country \"\n",
    "Q4 = \"My family would support me if I shift my focus to unconventional or entrepreneurial activities \"\n",
    "Q5 = \"If I decide to be an entrepreneur family support will be an important factor for me \"\n",
    "Q6 = \"I’ll readily get mental and executional support from my peers for my venture \"\n",
    "Q7 = \"It is easy for me to get funding for my startup from alumni or outside \"\n",
    "Q8 = \"My country has created an ecosystem that enables young entrepreneurs to pursue their passion \"\n",
    "Q9 = \"My college is located in a city which is active in entrepreneurship \"\n",
    "Ent = \"How likely are you to take up entrepreneurship as a career? \""
   ]
  },
  {
   "cell_type": "markdown",
   "id": "e1248d42",
   "metadata": {},
   "source": [
    "### Importing statistical and vizualisation libraries"
   ]
  },
  {
   "cell_type": "code",
   "execution_count": 7,
   "id": "a3279cc2",
   "metadata": {},
   "outputs": [],
   "source": [
    "import matplotlib.pyplot as plt\n",
    "from scipy.stats import spearmanr\n",
    "import seaborn as sns\n",
    "import statistics"
   ]
  },
  {
   "cell_type": "markdown",
   "id": "eb5cc0eb",
   "metadata": {},
   "source": [
    "### Method of establishing correlation\n",
    "Pandas inbuilt correlation fucntions .corr() do not work well for discrete and low range dataset like ours.\n",
    "Hence we are using a unique way of establishing correlation between the factors and entrepreneurship\n",
    "\n",
    "#### *Note that every factor as well as entrepreneurship in this report is as \"perceived\" by the respondents.*\n",
    "\n",
    "For example: To find the correlation between perceived entrepreneurship(Ent) and perceived family support(Q4)\n",
    "\n",
    "-> we find the difference between the response for Q4 and Ent for each response \n",
    "\n",
    "-> in an idealistic direct correlation the difference should be 0 for all repondents, but we see divergence for some reponses\n",
    "\n",
    "-> in simple terms, if difference is high then correlation is less, hence we plot a distribution graph of this difference\n",
    "\n",
    "-> difference <= |1| implies some correlation whereas difference >= |2| points towards a weak or no correlation\n",
    "\n",
    "-> hence the spread of the distribution curve helps us understand the overall correlation of the factor. The less distributed \n",
    "   the curve, the higher the correlation\n",
    "   \n",
    "-> we can also mathematically describe less distribution as the standard deviation of the distribution curve being low. Hence, \n",
    "   lower the standard deviation, higher the correlation.\n",
    "   \n",
    "### A standard deviation of 1.33 would occur for a normal distribution curve in our case. Hence a factor with standard deviation of more than 1.33 show weaker correlation with perceived entrepreneurship"
   ]
  },
  {
   "cell_type": "code",
   "execution_count": 8,
   "id": "6a2257a9",
   "metadata": {
    "scrolled": false
   },
   "outputs": [
    {
     "data": {
      "text/plain": [
       "1.4385538313697208"
      ]
     },
     "execution_count": 8,
     "metadata": {},
     "output_type": "execute_result"
    },
    {
     "data": {
      "image/png": "[encoded data removed]",
      "text/plain": [
       "<Figure size 360x360 with 1 Axes>"
      ]
     },
     "metadata": {
      "needs_background": "light"
     },
     "output_type": "display_data"
    }
   ],
   "source": [
    "#correlation of Ent with Q1\n",
    "#COLLEGE MENTOR\n",
    "sns.displot(df1[\"diff_Q1\"])\n",
    "statistics.stdev(df1[\"diff_Q1\"])"
   ]
  },
  {
   "cell_type": "code",
   "execution_count": 9,
   "id": "15878db1",
   "metadata": {
    "scrolled": false
   },
   "outputs": [
    {
     "data": {
      "text/plain": [
       "1.4310332936116998"
      ]
     },
     "execution_count": 9,
     "metadata": {},
     "output_type": "execute_result"
    },
    {
     "data": {
      "image/png": "[encoded data removed]",
      "text/plain": [
       "<Figure size 360x360 with 1 Axes>"
      ]
     },
     "metadata": {
      "needs_background": "light"
     },
     "output_type": "display_data"
    }
   ],
   "source": [
    "#correlation of Ent with Q2\n",
    "#CLUBS DEVELOPING SKILLS\n",
    "sns.displot(df1[\"diff_Q2\"])\n",
    "statistics.stdev(df1[\"diff_Q2\"])"
   ]
  },
  {
   "cell_type": "code",
   "execution_count": 10,
   "id": "1d0eb673",
   "metadata": {},
   "outputs": [
    {
     "data": {
      "text/plain": [
       "1.5418732935922503"
      ]
     },
     "execution_count": 10,
     "metadata": {},
     "output_type": "execute_result"
    },
    {
     "data": {
      "image/png": "[encoded data removed]",
      "text/plain": [
       "<Figure size 360x360 with 1 Axes>"
      ]
     },
     "metadata": {
      "needs_background": "light"
     },
     "output_type": "display_data"
    }
   ],
   "source": [
    "#correlation of Ent with Q3\n",
    "#COLLEGE CURRICULUM\n",
    "sns.displot(df1[\"diff_Q3\"])\n",
    "statistics.stdev(df1[\"diff_Q3\"])"
   ]
  },
  {
   "cell_type": "code",
   "execution_count": 11,
   "id": "a3c67c3f",
   "metadata": {},
   "outputs": [
    {
     "data": {
      "text/plain": [
       "1.1959646053815094"
      ]
     },
     "execution_count": 11,
     "metadata": {},
     "output_type": "execute_result"
    },
    {
     "data": {
      "image/png": "[encoded data removed]",
      "text/plain": [
       "<Figure size 360x360 with 1 Axes>"
      ]
     },
     "metadata": {
      "needs_background": "light"
     },
     "output_type": "display_data"
    }
   ],
   "source": [
    "#correlation of Ent with Q4\n",
    "#FAMILY SUPPORTIVE\n",
    "sns.displot(df1[\"diff_Q4\"])\n",
    "statistics.stdev(df1[\"diff_Q4\"])"
   ]
  },
  {
   "cell_type": "code",
   "execution_count": 12,
   "id": "be3a0ece",
   "metadata": {
    "scrolled": false
   },
   "outputs": [
    {
     "data": {
      "text/plain": [
       "1.4066338409390875"
      ]
     },
     "execution_count": 12,
     "metadata": {},
     "output_type": "execute_result"
    },
    {
     "data": {
      "image/png": "[encoded data removed]",
      "text/plain": [
       "<Figure size 360x360 with 1 Axes>"
      ]
     },
     "metadata": {
      "needs_background": "light"
     },
     "output_type": "display_data"
    }
   ],
   "source": [
    "#correlation of Ent with Q5\n",
    "#FAMILY SUPPORT MATTERS\n",
    "sns.displot(df1[\"diff_Q5\"])\n",
    "statistics.stdev(df1[\"diff_Q5\"])"
   ]
  },
  {
   "cell_type": "code",
   "execution_count": 13,
   "id": "4f720268",
   "metadata": {},
   "outputs": [
    {
     "data": {
      "text/plain": [
       "1.2187588988364408"
      ]
     },
     "execution_count": 13,
     "metadata": {},
     "output_type": "execute_result"
    },
    {
     "data": {
      "image/png": "[encoded data removed]",
      "text/plain": [
       "<Figure size 360x360 with 1 Axes>"
      ]
     },
     "metadata": {
      "needs_background": "light"
     },
     "output_type": "display_data"
    }
   ],
   "source": [
    "#correlation of Ent with Q6\n",
    "#PEER SUPPORT\n",
    "sns.displot(df1[\"diff_Q6\"])\n",
    "statistics.stdev(df1[\"diff_Q6\"])"
   ]
  },
  {
   "cell_type": "code",
   "execution_count": 14,
   "id": "03915125",
   "metadata": {},
   "outputs": [
    {
     "data": {
      "text/plain": [
       "1.2796924530726506"
      ]
     },
     "execution_count": 14,
     "metadata": {},
     "output_type": "execute_result"
    },
    {
     "data": {
      "image/png": "[encoded data removed]",
      "text/plain": [
       "<Figure size 360x360 with 1 Axes>"
      ]
     },
     "metadata": {
      "needs_background": "light"
     },
     "output_type": "display_data"
    }
   ],
   "source": [
    "#correlation of Ent with Q7\n",
    "#FUNDING\n",
    "sns.displot(df1[\"diff_Q7\"])\n",
    "statistics.stdev(df1[\"diff_Q7\"])"
   ]
  },
  {
   "cell_type": "code",
   "execution_count": 15,
   "id": "d00debd0",
   "metadata": {},
   "outputs": [
    {
     "data": {
      "text/plain": [
       "1.241317952613688"
      ]
     },
     "execution_count": 15,
     "metadata": {},
     "output_type": "execute_result"
    },
    {
     "data": {
      "image/png": "[encoded data removed]",
      "text/plain": [
       "<Figure size 360x360 with 1 Axes>"
      ]
     },
     "metadata": {
      "needs_background": "light"
     },
     "output_type": "display_data"
    }
   ],
   "source": [
    "#correlation of Ent with Q8\n",
    "#COUNTRY\n",
    "sns.displot(df1[\"diff_Q8\"])\n",
    "statistics.stdev(df1[\"diff_Q8\"])"
   ]
  },
  {
   "cell_type": "code",
   "execution_count": 16,
   "id": "fb0c7441",
   "metadata": {
    "scrolled": false
   },
   "outputs": [
    {
     "data": {
      "text/plain": [
       "1.502269739846172"
      ]
     },
     "execution_count": 16,
     "metadata": {},
     "output_type": "execute_result"
    },
    {
     "data": {
      "image/png": "[encoded data removed]",
      "text/plain": [
       "<Figure size 360x360 with 1 Axes>"
      ]
     },
     "metadata": {
      "needs_background": "light"
     },
     "output_type": "display_data"
    }
   ],
   "source": [
    "#correlation of Ent with Q9\n",
    "#CITY\n",
    "sns.displot(df1[\"diff_Q9\"])\n",
    "statistics.stdev(df1[\"diff_Q9\"])"
   ]
  },
  {
   "cell_type": "markdown",
   "id": "6876f9ba",
   "metadata": {},
   "source": [
    "### Correlation of Entrepreneurship with the average response of the Educational factor questions (Q1, Q2 & Q3)  "
   ]
  },
  {
   "cell_type": "code",
   "execution_count": 17,
   "id": "df291968",
   "metadata": {
    "scrolled": false
   },
   "outputs": [
    {
     "data": {
      "text/plain": [
       "1.3422823581281682"
      ]
     },
     "execution_count": 17,
     "metadata": {},
     "output_type": "execute_result"
    },
    {
     "data": {
      "image/png": "[encoded data removed]",
      "text/plain": [
       "<Figure size 360x360 with 1 Axes>"
      ]
     },
     "metadata": {
      "needs_background": "light"
     },
     "output_type": "display_data"
    }
   ],
   "source": [
    "sns.displot(df1[\"diff_Edu\"])\n",
    "statistics.stdev(df1[\"diff_Edu\"])"
   ]
  },
  {
   "cell_type": "markdown",
   "id": "45d36063",
   "metadata": {},
   "source": [
    "### Correlation of Entrepreneurship with the average response of the Relational factor questions (Q4, Q5 & Q6)  "
   ]
  },
  {
   "cell_type": "code",
   "execution_count": 18,
   "id": "1d6015f9",
   "metadata": {},
   "outputs": [
    {
     "data": {
      "text/plain": [
       "1.0708244642021085"
      ]
     },
     "execution_count": 18,
     "metadata": {},
     "output_type": "execute_result"
    },
    {
     "data": {
      "image/png": "[encoded data removed]",
      "text/plain": [
       "<Figure size 360x360 with 1 Axes>"
      ]
     },
     "metadata": {
      "needs_background": "light"
     },
     "output_type": "display_data"
    }
   ],
   "source": [
    "sns.displot(df1[\"diff_Rel\"])\n",
    "statistics.stdev(df1[\"diff_Rel\"])"
   ]
  },
  {
   "cell_type": "markdown",
   "id": "50e78e12",
   "metadata": {},
   "source": [
    "### Correlation of Entrepreneurship with the average response of the Structural factor questions (Q7, Q8 & Q9)  "
   ]
  },
  {
   "cell_type": "code",
   "execution_count": 19,
   "id": "1c38404c",
   "metadata": {
    "scrolled": false
   },
   "outputs": [
    {
     "data": {
      "text/plain": [
       "1.1111252152265179"
      ]
     },
     "execution_count": 19,
     "metadata": {},
     "output_type": "execute_result"
    },
    {
     "data": {
      "image/png": "[encoded data removed]",
      "text/plain": [
       "<Figure size 360x360 with 1 Axes>"
      ]
     },
     "metadata": {
      "needs_background": "light"
     },
     "output_type": "display_data"
    }
   ],
   "source": [
    "sns.displot(df1[\"diff_Str\"])\n",
    "statistics.stdev(df1[\"diff_Str\"])"
   ]
  },
  {
   "cell_type": "markdown",
   "id": "9785b5af",
   "metadata": {},
   "source": [
    "## Finding a city's mean response for city related questions "
   ]
  },
  {
   "cell_type": "markdown",
   "id": "f057c1b4",
   "metadata": {},
   "source": [
    "#### City's perceived entrepreneurship interest"
   ]
  },
  {
   "cell_type": "code",
   "execution_count": 20,
   "id": "b367a0ff",
   "metadata": {},
   "outputs": [
    {
     "data": {
      "text/plain": [
       "<AxesSubplot:xlabel='Avg Entrepreneurship Interest', ylabel='City'>"
      ]
     },
     "execution_count": 20,
     "metadata": {},
     "output_type": "execute_result"
    },
    {
     "data": {
      "image/png": "[encoded data removed]",
      "text/plain": [
       "<Figure size 432x288 with 1 Axes>"
      ]
     },
     "metadata": {
      "needs_background": "light"
     },
     "output_type": "display_data"
    }
   ],
   "source": [
    "#Finding mean perceived entrepreneurship of the top responding cities of the survey\n",
    "#Top responding cities are chosen to avoid outlier data (small sample) affect the representation of the whole city\n",
    "\n",
    "df_Bangalore = df.loc[(df[\"City\"]==\"Bangalore\")]\n",
    "ent_Bangalore_mean = df_Bangalore.loc[:, Ent].mean()\n",
    "\n",
    "df_Bhopal = df.loc[(df[\"City\"]==\"Bhopal\")]\n",
    "ent_Bhopal_mean = df_Bhopal.loc[:, Ent].mean()\n",
    "\n",
    "df_Chennai = df.loc[(df[\"City\"]==\"Chennai\")]\n",
    "ent_Chennai_mean = df_Chennai.loc[:, Ent].mean()\n",
    "\n",
    "df_Delhi = df.loc[(df[\"City\"]==\"Delhi\")]\n",
    "ent_Delhi_mean = df_Delhi.loc[:, Ent].mean()\n",
    "\n",
    "df_Guwahati = df.loc[(df[\"City\"]==\"Guwahati\")]\n",
    "ent_Guwahati_mean = df_Guwahati.loc[:, Ent].mean()\n",
    "\n",
    "df_Hyderabad = df.loc[(df[\"City\"]==\"Hyderabad\")]\n",
    "ent_Hyderabad_mean = df_Hyderabad.loc[:, Ent].mean()\n",
    "\n",
    "df_Indore = df.loc[(df[\"City\"]==\"Indore\")]\n",
    "ent_Indore_mean = df_Indore.loc[:, Ent].mean()\n",
    "\n",
    "df_Kanpur = df.loc[(df[\"City\"]==\"Kanpur\")]\n",
    "ent_Kanpur_mean = df_Kanpur.loc[:, Ent].mean()\n",
    "\n",
    "df_Kharagpur = df.loc[(df[\"City\"]==\"Kharagpur\")]\n",
    "ent_Kharagpur_mean = df_Kharagpur.loc[:, Ent].mean()\n",
    "\n",
    "df_Mangalore = df.loc[(df[\"City\"]==\"Mangalore\")]\n",
    "ent_Mangalore_mean = df_Mangalore.loc[:, Ent].mean()\n",
    "\n",
    "df_Mumbai = df.loc[(df[\"City\"]==\"Mumbai\")]\n",
    "ent_Mumbai_mean = df_Mumbai.loc[:, Ent].mean()\n",
    "\n",
    "df_Pilani = df.loc[(df[\"City\"]==\"Pilani\")]\n",
    "ent_Pilani_mean = df_Pilani.loc[:, Ent].mean()\n",
    "\n",
    "df_Pune = df.loc[(df[\"City\"]==\"Pune\")]\n",
    "ent_Pune_mean = df_Pune.loc[:, Ent].mean()\n",
    "\n",
    "df_Tiruchirappalli = df.loc[(df[\"City\"]==\"Tiruchirappalli\")]\n",
    "ent_Tiruchirappalli_mean = df_Tiruchirappalli.loc[:, Ent].mean()\n",
    "\n",
    "df_Vellore = df.loc[(df[\"City\"]==\"Vellore\")]\n",
    "ent_Vellore_mean = df_Vellore.loc[:, Ent].mean()\n",
    "\n",
    "df_Indore = df.loc[(df[\"City\"]==\"Indore\")]\n",
    "ent_Indore_mean = df_Indore.loc[:, Ent].mean()\n",
    "\n",
    "#creating a new dataframe with mean responses, arranging them and plotting to find city ranks\n",
    "\n",
    "df_ent_mean= pd.DataFrame({'City':[\"Bangalore\", \"Bhopal\", \"Chennai\", \"Delhi\", 'Guwahati', 'Hyderabad', 'Indore', 'Kanpur', 'Kharagpur', 'Mangalore', 'Mumbai', 'Pilani', 'Pune', 'Tiruchirapalli', 'Vellore', 'Indore'],'Avg Entrepreneurship Interest':[ent_Bangalore_mean, ent_Bhopal_mean, ent_Chennai_mean, ent_Delhi_mean, ent_Guwahati_mean, ent_Hyderabad_mean, ent_Indore_mean, ent_Kanpur_mean, ent_Kharagpur_mean, ent_Mangalore_mean, ent_Mumbai_mean, ent_Pilani_mean, ent_Pune_mean, ent_Tiruchirappalli_mean, ent_Vellore_mean, ent_Indore_mean]})\n",
    "df_ent_mean = df_ent_mean.sort_values('Avg Entrepreneurship Interest', ascending=False)\n",
    "\n",
    "sns.barplot(x=\"Avg Entrepreneurship Interest\", y=\"City\", data=df_ent_mean,\n",
    "            label=\"Total\", palette=\"bright\")"
   ]
  },
  {
   "cell_type": "markdown",
   "id": "796ed5c5",
   "metadata": {},
   "source": [
    "#### Students' perception of the city's entrepreneurial acitivies"
   ]
  },
  {
   "cell_type": "code",
   "execution_count": 21,
   "id": "31dc52fc",
   "metadata": {
    "scrolled": true
   },
   "outputs": [
    {
     "data": {
      "text/plain": [
       "<AxesSubplot:xlabel=\"City's Entrepreneurship Perception\", ylabel='City'>"
      ]
     },
     "execution_count": 21,
     "metadata": {},
     "output_type": "execute_result"
    },
    {
     "data": {
      "image/png": "[encoded data removed]",
      "text/plain": [
       "<Figure size 432x288 with 1 Axes>"
      ]
     },
     "metadata": {
      "needs_background": "light"
     },
     "output_type": "display_data"
    }
   ],
   "source": [
    "Q9_Bangalore_mean = df_Bangalore.loc[:, Q9].mean()\n",
    "\n",
    "Q9_Bhopal_mean = df_Bhopal.loc[:, Q9].mean()\n",
    "\n",
    "Q9_Chennai_mean = df_Chennai.loc[:, Q9].mean()\n",
    "\n",
    "Q9_Delhi_mean = df_Delhi.loc[:, Q9].mean()\n",
    "\n",
    "Q9_Guwahati_mean = df_Guwahati.loc[:, Q9].mean()\n",
    "\n",
    "Q9_Hyderabad_mean = df_Hyderabad.loc[:, Q9].mean()\n",
    "\n",
    "Q9_Indore_mean = df_Indore.loc[:, Q9].mean()\n",
    "\n",
    "Q9_Kanpur_mean = df_Kanpur.loc[:, Q9].mean()\n",
    "\n",
    "Q9_Kharagpur_mean = df_Kharagpur.loc[:, Q9].mean()\n",
    "\n",
    "Q9_Mangalore_mean = df_Mangalore.loc[:, Q9].mean()\n",
    "\n",
    "Q9_Mumbai_mean = df_Mumbai.loc[:, Q9].mean()\n",
    "\n",
    "Q9_Pilani_mean = df_Pilani.loc[:, Q9].mean()\n",
    "\n",
    "Q9_Pune_mean = df_Pune.loc[:, Q9].mean()\n",
    "\n",
    "Q9_Tiruchirappalli_mean = df_Tiruchirappalli.loc[:, Q9].mean()\n",
    "\n",
    "Q9_Vellore_mean = df_Vellore.loc[:, Q9].mean()\n",
    "\n",
    "df_Q9_mean= pd.DataFrame({'City':[\"Bangalore\", \"Bhopal\", \"Chennai\", \"Delhi\", 'Guwahati', 'Hyderabad', 'Indore', 'Kanpur', 'Kharagpur', 'Mangalore', 'Mumbai', 'Pilani', 'Pune', 'Tiruchirapalli', 'Vellore', 'Indore'],\"City's Entrepreneurship Perception\":[Q9_Bangalore_mean, Q9_Bhopal_mean, Q9_Chennai_mean, Q9_Delhi_mean, Q9_Guwahati_mean, Q9_Hyderabad_mean, Q9_Indore_mean, Q9_Kanpur_mean, Q9_Kharagpur_mean, Q9_Mangalore_mean, Q9_Mumbai_mean, Q9_Pilani_mean, Q9_Pune_mean, Q9_Tiruchirappalli_mean, Q9_Vellore_mean, Q9_Indore_mean]})\n",
    "df_Q9_mean = df_Q9_mean.sort_values(\"City's Entrepreneurship Perception\", ascending=False)\n",
    "\n",
    "sns.barplot(x=\"City's Entrepreneurship Perception\", y=\"City\", data=df_Q9_mean,\n",
    "            label=\"Total\", palette=\"bright\")"
   ]
  },
  {
   "cell_type": "markdown",
   "id": "fba83500",
   "metadata": {},
   "source": [
    "#### Perception of Relational support in the city"
   ]
  },
  {
   "cell_type": "code",
   "execution_count": 22,
   "id": "dc3f3039",
   "metadata": {},
   "outputs": [
    {
     "data": {
      "text/plain": [
       "<AxesSubplot:xlabel=\"City's Relational Support\", ylabel='City'>"
      ]
     },
     "execution_count": 22,
     "metadata": {},
     "output_type": "execute_result"
    },
    {
     "data": {
      "image/png": "[encoded data removed]",
      "text/plain": [
       "<Figure size 432x288 with 1 Axes>"
      ]
     },
     "metadata": {
      "needs_background": "light"
     },
     "output_type": "display_data"
    }
   ],
   "source": [
    "Relational_Bangalore_mean = df_Bangalore.loc[:, \"Relational\"].mean()\n",
    "\n",
    "Relational_Bhopal_mean = df_Bhopal.loc[:, \"Relational\"].mean()\n",
    "\n",
    "Relational_Chennai_mean = df_Chennai.loc[:, \"Relational\"].mean()\n",
    "\n",
    "Relational_Delhi_mean = df_Delhi.loc[:, \"Relational\"].mean()\n",
    "\n",
    "Relational_Guwahati_mean = df_Guwahati.loc[:, \"Relational\"].mean()\n",
    "\n",
    "Relational_Hyderabad_mean = df_Hyderabad.loc[:, \"Relational\"].mean()\n",
    "\n",
    "Relational_Indore_mean = df_Indore.loc[:, \"Relational\"].mean()\n",
    "\n",
    "Relational_Kanpur_mean = df_Kanpur.loc[:, \"Relational\"].mean()\n",
    "\n",
    "Relational_Kharagpur_mean = df_Kharagpur.loc[:, \"Relational\"].mean()\n",
    "\n",
    "Relational_Mangalore_mean = df_Mangalore.loc[:, \"Relational\"].mean()\n",
    "\n",
    "Relational_Mumbai_mean = df_Mumbai.loc[:, \"Relational\"].mean()\n",
    "\n",
    "Relational_Pilani_mean = df_Pilani.loc[:, \"Relational\"].mean()\n",
    "\n",
    "Relational_Pune_mean = df_Pune.loc[:, \"Relational\"].mean()\n",
    "\n",
    "Relational_Tiruchirappalli_mean = df_Tiruchirappalli.loc[:, \"Relational\"].mean()\n",
    "\n",
    "Relational_Vellore_mean = df_Vellore.loc[:, \"Relational\"].mean()\n",
    "\n",
    "df_Relational_mean= pd.DataFrame({'City':[\"Bangalore\", \"Bhopal\", \"Chennai\", \"Delhi\", 'Guwahati', 'Hyderabad', 'Indore', 'Kanpur', 'Kharagpur', 'Mangalore', 'Mumbai', 'Pilani', 'Pune', 'Tiruchirapalli', 'Vellore', 'Indore'],\"City's Relational Support\":[Relational_Bangalore_mean, Relational_Bhopal_mean, Relational_Chennai_mean, Relational_Delhi_mean, Relational_Guwahati_mean, Relational_Hyderabad_mean, Relational_Indore_mean, Relational_Kanpur_mean, Relational_Kharagpur_mean, Relational_Mangalore_mean, Relational_Mumbai_mean, Relational_Pilani_mean, Relational_Pune_mean, Relational_Tiruchirappalli_mean, Relational_Vellore_mean, Relational_Indore_mean]})\n",
    "df_Relational_mean = df_Relational_mean.sort_values(\"City's Relational Support\", ascending=False)\n",
    "\n",
    "sns.barplot(x=\"City's Relational Support\", y=\"City\", data=df_Relational_mean,\n",
    "            label=\"Total\", palette=\"bright\")"
   ]
  },
  {
   "cell_type": "markdown",
   "id": "9365ba36",
   "metadata": {},
   "source": [
    "#### Perception of availability of funds for Start ups in the city"
   ]
  },
  {
   "cell_type": "code",
   "execution_count": 23,
   "id": "8064e342",
   "metadata": {},
   "outputs": [
    {
     "data": {
      "text/plain": [
       "<AxesSubplot:xlabel='City Vs Funding', ylabel='City'>"
      ]
     },
     "execution_count": 23,
     "metadata": {},
     "output_type": "execute_result"
    },
    {
     "data": {
      "image/png": "[encoded data removed]",
      "text/plain": [
       "<Figure size 432x288 with 1 Axes>"
      ]
     },
     "metadata": {
      "needs_background": "light"
     },
     "output_type": "display_data"
    }
   ],
   "source": [
    "cityVsFund_Bangalore_mean = df_Bangalore.loc[:, Q7].mean()\n",
    "\n",
    "cityVsFund_Bhopal_mean = df_Bhopal.loc[:, Q7].mean()\n",
    "\n",
    "cityVsFund_Chennai_mean = df_Chennai.loc[:, Q7].mean()\n",
    "\n",
    "cityVsFund_Delhi_mean = df_Delhi.loc[:, Q7].mean()\n",
    "\n",
    "cityVsFund_Guwahati_mean = df_Guwahati.loc[:, Q7].mean()\n",
    "\n",
    "cityVsFund_Hyderabad_mean = df_Hyderabad.loc[:, Q7].mean()\n",
    "\n",
    "cityVsFund_Indore_mean = df_Indore.loc[:, Q7].mean()\n",
    "\n",
    "cityVsFund_Kanpur_mean = df_Kanpur.loc[:, Q7].mean()\n",
    "\n",
    "cityVsFund_Kharagpur_mean = df_Kharagpur.loc[:, Q7].mean()\n",
    "\n",
    "cityVsFund_Mangalore_mean = df_Mangalore.loc[:, Q7].mean()\n",
    "\n",
    "cityVsFund_Mumbai_mean = df_Mumbai.loc[:, Q7].mean()\n",
    "\n",
    "cityVsFund_Pilani_mean = df_Pilani.loc[:, Q7].mean()\n",
    "\n",
    "cityVsFund_Pune_mean = df_Pune.loc[:, Q7].mean()\n",
    "\n",
    "cityVsFund_Tiruchirappalli_mean = df_Tiruchirappalli.loc[:, Q7].mean()\n",
    "\n",
    "cityVsFund_Vellore_mean = df_Vellore.loc[:, Q7].mean()\n",
    "\n",
    "df_cityVsFund_mean= pd.DataFrame({'City':[\"Bangalore\", \"Bhopal\", \"Chennai\", \"Delhi\", 'Guwahati', 'Hyderabad', 'Indore', 'Kanpur', 'Kharagpur', 'Mangalore', 'Mumbai', 'Pilani', 'Pune', 'Tiruchirapalli', 'Vellore', 'Indore'],\"City Vs Funding\":[cityVsFund_Bangalore_mean, cityVsFund_Bhopal_mean, cityVsFund_Chennai_mean, cityVsFund_Delhi_mean, cityVsFund_Guwahati_mean, cityVsFund_Hyderabad_mean, cityVsFund_Indore_mean, cityVsFund_Kanpur_mean, cityVsFund_Kharagpur_mean, cityVsFund_Mangalore_mean, cityVsFund_Mumbai_mean, cityVsFund_Pilani_mean, cityVsFund_Pune_mean, cityVsFund_Tiruchirappalli_mean, cityVsFund_Vellore_mean, cityVsFund_Indore_mean]})\n",
    "df_cityVsFund_mean = df_cityVsFund_mean.sort_values(\"City Vs Funding\", ascending=False)\n",
    "\n",
    "sns.barplot(x=\"City Vs Funding\", y=\"City\", data=df_cityVsFund_mean,\n",
    "            label=\"Total\", palette=\"bright\")"
   ]
  },
  {
   "cell_type": "markdown",
   "id": "be969889",
   "metadata": {},
   "source": [
    "### Perception of Country's entrepreneurial support in the city"
   ]
  },
  {
   "cell_type": "code",
   "execution_count": 24,
   "id": "d6e89ade",
   "metadata": {},
   "outputs": [
    {
     "data": {
      "text/plain": [
       "<AxesSubplot:xlabel='City Vs Country', ylabel='City'>"
      ]
     },
     "execution_count": 24,
     "metadata": {},
     "output_type": "execute_result"
    },
    {
     "data": {
      "image/png": "[encoded data removed]",
      "text/plain": [
       "<Figure size 432x288 with 1 Axes>"
      ]
     },
     "metadata": {
      "needs_background": "light"
     },
     "output_type": "display_data"
    }
   ],
   "source": [
    "cityVsCount_Bangalore_mean = df_Bangalore.loc[:, Q8].mean()\n",
    "\n",
    "cityVsCount_Bhopal_mean = df_Bhopal.loc[:, Q8].mean()\n",
    "\n",
    "cityVsCount_Chennai_mean = df_Chennai.loc[:, Q8].mean()\n",
    "\n",
    "cityVsCount_Delhi_mean = df_Delhi.loc[:, Q8].mean()\n",
    "\n",
    "cityVsCount_Guwahati_mean = df_Guwahati.loc[:, Q8].mean()\n",
    "\n",
    "cityVsCount_Hyderabad_mean = df_Hyderabad.loc[:, Q8].mean()\n",
    "\n",
    "cityVsCount_Indore_mean = df_Indore.loc[:, Q8].mean()\n",
    "\n",
    "cityVsCount_Kanpur_mean = df_Kanpur.loc[:, Q8].mean()\n",
    "\n",
    "cityVsCount_Kharagpur_mean = df_Kharagpur.loc[:, Q8].mean()\n",
    "\n",
    "cityVsCount_Mangalore_mean = df_Mangalore.loc[:, Q8].mean()\n",
    "\n",
    "cityVsCount_Mumbai_mean = df_Mumbai.loc[:, Q8].mean()\n",
    "\n",
    "cityVsCount_Pilani_mean = df_Pilani.loc[:, Q8].mean()\n",
    "\n",
    "cityVsCount_Pune_mean = df_Pune.loc[:, Q8].mean()\n",
    "\n",
    "cityVsCount_Tiruchirappalli_mean = df_Tiruchirappalli.loc[:, Q8].mean()\n",
    "\n",
    "cityVsCount_Vellore_mean = df_Vellore.loc[:, Q8].mean()\n",
    "\n",
    "df_Q8_mean= pd.DataFrame({'City':[\"Bangalore\", \"Bhopal\", \"Chennai\", \"Delhi\", 'Guwahati', 'Hyderabad', 'Indore', 'Kanpur', 'Kharagpur', 'Mangalore', 'Mumbai', 'Pilani', 'Pune', 'Tiruchirapalli', 'Vellore', 'Indore'],\"City Vs Country\":[cityVsCount_Bangalore_mean, cityVsCount_Bhopal_mean, cityVsCount_Chennai_mean, cityVsCount_Delhi_mean, cityVsCount_Guwahati_mean, cityVsCount_Hyderabad_mean, cityVsCount_Indore_mean, cityVsCount_Kanpur_mean, cityVsCount_Kharagpur_mean, cityVsCount_Mangalore_mean, cityVsCount_Mumbai_mean, cityVsCount_Pilani_mean, cityVsCount_Pune_mean, cityVsCount_Tiruchirappalli_mean, cityVsCount_Vellore_mean, cityVsCount_Indore_mean]})\n",
    "df_Q8_mean = df_Q8_mean.sort_values(\"City Vs Country\", ascending=False)\n",
    "df_Q8_mean.columns\n",
    "\n",
    "sns.barplot(x=\"City Vs Country\", y=\"City\", data=df_Q8_mean,\n",
    "            label=\"Total\", palette=\"bright\")"
   ]
  },
  {
   "cell_type": "markdown",
   "id": "75990f4e",
   "metadata": {},
   "source": [
    "#### Correlation between a students' perception about entrepreneurial support in their city vs the Country"
   ]
  },
  {
   "cell_type": "code",
   "execution_count": 25,
   "id": "d356c37d",
   "metadata": {},
   "outputs": [
    {
     "data": {
      "text/plain": [
       "1.3389810526968027"
      ]
     },
     "execution_count": 25,
     "metadata": {},
     "output_type": "execute_result"
    },
    {
     "data": {
      "image/png": "[encoded data removed]",
      "text/plain": [
       "<Figure size 360x360 with 1 Axes>"
      ]
     },
     "metadata": {
      "needs_background": "light"
     },
     "output_type": "display_data"
    }
   ],
   "source": [
    "#taking the difference of responses for support in their city vs the country\n",
    "diff_country_city = df1[Q9]-df1[Q8]\n",
    "sns.displot(diff_country_city)\n",
    "statistics.stdev(diff_country_city)"
   ]
  },
  {
   "cell_type": "markdown",
   "id": "f6e8db0c",
   "metadata": {},
   "source": [
    "## Respondents' data visualised for insights and limitations"
   ]
  },
  {
   "cell_type": "markdown",
   "id": "b1d0f410",
   "metadata": {},
   "source": [
    "#### Respondents with family members into entrepreneurship"
   ]
  },
  {
   "cell_type": "code",
   "execution_count": 26,
   "id": "9a1b8d0b",
   "metadata": {},
   "outputs": [
    {
     "data": {
      "image/png": "[encoded data removed]",
      "text/plain": [
       "<Figure size 432x288 with 1 Axes>"
      ]
     },
     "metadata": {},
     "output_type": "display_data"
    }
   ],
   "source": [
    "#counting duplicates in the 'Is anyone from your family into Entrepreneurship?' column\n",
    "dups_fam = df1.pivot_table(index = ['  Is anyone from your family into Entrepreneurship?  '], aggfunc ='size')\n",
    "dups_fam = pd.DataFrame(dups_fam)\n",
    "\n",
    "#plotting a pie chart to visualise it\n",
    "fig1, ax1 = plt.subplots()\n",
    "ax1.pie(dups_fam[0], labels=[\"Father\", \"Grandparents\", \"Mother\", \"No one\", \"Siblings\"], autopct='%1.1f%%', startangle=90)\n",
    "ax1.axis('equal')\n",
    "\n",
    "plt.show()"
   ]
  },
  {
   "cell_type": "markdown",
   "id": "d7884028",
   "metadata": {},
   "source": [
    "#### Higher number of respondents from Public colleges : convergence bias"
   ]
  },
  {
   "cell_type": "code",
   "execution_count": 27,
   "id": "5e55d0cc",
   "metadata": {},
   "outputs": [
    {
     "data": {
      "image/png": "[encoded data removed]",
      "text/plain": [
       "<Figure size 432x288 with 1 Axes>"
      ]
     },
     "metadata": {},
     "output_type": "display_data"
    }
   ],
   "source": [
    "dups_public = df1.pivot_table(index = ['Public/Private'], aggfunc ='size')\n",
    "dups_public = pd.DataFrame(dups_public)\n",
    "\n",
    "\n",
    "fig1, ax1 = plt.subplots()\n",
    "ax1.pie(dups_public[0], labels=[\"Private\",\"Public\",\"Semi\"], autopct='%1.1f%%', startangle=90)\n",
    "ax1.axis('equal')\n",
    "\n",
    "plt.show()\n"
   ]
  },
  {
   "cell_type": "markdown",
   "id": "e9b5ccce",
   "metadata": {},
   "source": [
    "#### The year of study of respondents skewed for respondents from second year : convergence bias \n",
    "##### Having second year project creators created this convergence bias while sending the survey to colleges"
   ]
  },
  {
   "cell_type": "code",
   "execution_count": 28,
   "id": "59bd16aa",
   "metadata": {},
   "outputs": [
    {
     "data": {
      "image/png": "[encoded data removed]",
      "text/plain": [
       "<Figure size 432x288 with 1 Axes>"
      ]
     },
     "metadata": {},
     "output_type": "display_data"
    }
   ],
   "source": [
    "dups_yos = df1.pivot_table(index = ['Which year of college are you in currently? '], aggfunc ='size')\n",
    "dups_yos = pd.DataFrame(dups_yos)\n",
    "\n",
    "\n",
    "fig1, ax1 = plt.subplots()\n",
    "ax1.pie(dups_yos[0], labels=[\"First\",\"Second\",\"Third\", \"Fourth\", \"Fifth\"], autopct='%1.1f%%', startangle=90)\n",
    "ax1.axis('equal')\n",
    "\n",
    "plt.show()"
   ]
  },
  {
   "cell_type": "markdown",
   "id": "61637228",
   "metadata": {},
   "source": [
    "#### More than 50% of respondents were highly interested in taking up entrepreneurship in the future : self selecting sample bias\n",
    "##### -> Less interested (survey response 1-2)\n",
    "##### -> Interested (survey response 3)\n",
    "##### -> Highly Interested (survey response 4-5)"
   ]
  },
  {
   "cell_type": "code",
   "execution_count": 29,
   "id": "37630287",
   "metadata": {},
   "outputs": [
    {
     "data": {
      "image/png": "[encoded data removed]",
      "text/plain": [
       "<Figure size 432x288 with 1 Axes>"
      ]
     },
     "metadata": {},
     "output_type": "display_data"
    }
   ],
   "source": [
    "dups_ent = df1.pivot_table(index = [Ent], aggfunc ='size')\n",
    "dups_ent = pd.DataFrame(dups_ent)\n",
    "\n",
    "\n",
    "dups_ent = pd.concat([dups_ent.iloc[0]+dups_ent.iloc[1],dups_ent.iloc[2], dups_ent.iloc[3]+dups_ent.iloc[4]])\n",
    "\n",
    "fig1, ax1 = plt.subplots()\n",
    "ax1.pie(dups_ent[0], labels=[\"Less Interested\",\"Interested\",\"Highly Interested\"], autopct='%1.1f%%', startangle=90)\n",
    "ax1.axis('equal')\n",
    "\n",
    "plt.show()"
   ]
  },
  {
   "cell_type": "markdown",
   "id": "16fde906",
   "metadata": {},
   "source": [
    "#### 41.5% (40) of colleges had only a single representative in the dataset : sampling bias"
   ]
  },
  {
   "cell_type": "code",
   "execution_count": 30,
   "id": "7848c9b8",
   "metadata": {
    "scrolled": true
   },
   "outputs": [
    {
     "data": {
      "image/png": "[encoded data removed]",
      "text/plain": [
       "<Figure size 432x288 with 1 Axes>"
      ]
     },
     "metadata": {},
     "output_type": "display_data"
    }
   ],
   "source": [
    "clg_resp = df1.pivot_table(index = [\"KEY\"], aggfunc ='size')\n",
    "df_clg_resp = pd.DataFrame(clg_resp)\n",
    "single_resp = df_clg_resp.loc[df_clg_resp[0]==1]\n",
    "multi_resp = df_clg_resp.loc[df_clg_resp[0]>1]\n",
    "\n",
    "plt.pie([len(multi_resp[0]),len(single_resp[0])], labels=['Multiple Responses', 'Single Response'], autopct='%1.1f%%')\n",
    "\n",
    "plt.show()"
   ]
  },
  {
   "cell_type": "markdown",
   "id": "60243762",
   "metadata": {},
   "source": [
    "## Finding mean responses from students of different years"
   ]
  },
  {
   "cell_type": "markdown",
   "id": "573903f1",
   "metadata": {},
   "source": [
    "#### Perceived interest in entrepreneurship for students of different years"
   ]
  },
  {
   "cell_type": "code",
   "execution_count": 31,
   "id": "7e1adf90",
   "metadata": {},
   "outputs": [
    {
     "data": {
      "text/plain": [
       "<AxesSubplot:xlabel='Perceived Entrepreneurship', ylabel='Year of Study'>"
      ]
     },
     "execution_count": 31,
     "metadata": {},
     "output_type": "execute_result"
    },
    {
     "data": {
      "image/png": "[encoded data removed]",
      "text/plain": [
       "<Figure size 432x288 with 1 Axes>"
      ]
     },
     "metadata": {
      "needs_background": "light"
     },
     "output_type": "display_data"
    }
   ],
   "source": [
    "df_first = df.loc[(df[\"Which year of college are you in currently? \"]==1)]\n",
    "Ent_first_mean = df_first.loc[:, Ent].mean()\n",
    "\n",
    "df_second = df.loc[(df[\"Which year of college are you in currently? \"]==2)]\n",
    "Ent_second_mean = df_second.loc[:, Ent].mean()\n",
    "\n",
    "df_third = df.loc[(df[\"Which year of college are you in currently? \"]==3)]\n",
    "Ent_third_mean = df_third.loc[:, Ent].mean()\n",
    "\n",
    "df_fourth = df.loc[(df[\"Which year of college are you in currently? \"]==4)]\n",
    "Ent_fourth_mean = df_fourth.loc[:, Ent].mean()\n",
    "\n",
    "df_fifth = df.loc[(df[\"Which year of college are you in currently? \"]==5)]\n",
    "Ent_fifth_mean = df_fifth.loc[:, Ent].mean()\n",
    "\n",
    "df_Ent_mean= pd.DataFrame({'Year of Study':[\"First\", \"Second\", \"Third\", \"Fourth\", 'Fifth'],\"Perceived Entrepreneurship\":[Ent_first_mean,Ent_second_mean,Ent_third_mean,Ent_fourth_mean,Ent_fifth_mean]})\n",
    "df_Ent_mean = df_Ent_mean.sort_values(\"Perceived Entrepreneurship\", ascending=False)\n",
    "\n",
    "sns.barplot(x=\"Perceived Entrepreneurship\", y=\"Year of Study\", data=df_Ent_mean,\n",
    "            label=\"Total\", palette=\"bright\")"
   ]
  },
  {
   "cell_type": "markdown",
   "id": "b0a00984",
   "metadata": {},
   "source": [
    "#### Perceived structural support for students of different years"
   ]
  },
  {
   "cell_type": "code",
   "execution_count": 32,
   "id": "7df3127e",
   "metadata": {},
   "outputs": [
    {
     "data": {
      "text/plain": [
       "<AxesSubplot:xlabel='Perceived Structural Support', ylabel='Year of Study'>"
      ]
     },
     "execution_count": 32,
     "metadata": {},
     "output_type": "execute_result"
    },
    {
     "data": {
      "image/png": "[encoded data removed]",
      "text/plain": [
       "<Figure size 432x288 with 1 Axes>"
      ]
     },
     "metadata": {
      "needs_background": "light"
     },
     "output_type": "display_data"
    }
   ],
   "source": [
    "df_first = df.loc[(df[\"Which year of college are you in currently? \"]==1)]\n",
    "Structural_first_mean = df_first.loc[:, 'Structural'].mean()\n",
    "\n",
    "df_second = df.loc[(df[\"Which year of college are you in currently? \"]==2)]\n",
    "Structural_second_mean = df_second.loc[:, 'Structural'].mean()\n",
    "\n",
    "df_third = df.loc[(df[\"Which year of college are you in currently? \"]==3)]\n",
    "Structural_third_mean = df_third.loc[:, 'Structural'].mean()\n",
    "\n",
    "df_fourth = df.loc[(df[\"Which year of college are you in currently? \"]==4)]\n",
    "Structural_fourth_mean = df_fourth.loc[:, 'Structural'].mean()\n",
    "\n",
    "df_fifth = df.loc[(df[\"Which year of college are you in currently? \"]==5)]\n",
    "Structural_fifth_mean = df_fifth.loc[:, 'Structural'].mean()\n",
    "\n",
    "df_Str_mean= pd.DataFrame({'Year of Study':[\"First\", \"Second\", \"Third\", \"Fourth\", 'Fifth'],\"Perceived Structural Support\":[Structural_first_mean,Structural_second_mean,Structural_third_mean,Structural_fourth_mean,Structural_fifth_mean]})\n",
    "df_Str_mean = df_Str_mean.sort_values(\"Perceived Structural Support\", ascending=False)\n",
    "\n",
    "sns.barplot(x=\"Perceived Structural Support\", y=\"Year of Study\", data=df_Str_mean,\n",
    "            label=\"Total\", palette=\"bright\")"
   ]
  },
  {
   "cell_type": "markdown",
   "id": "c2bea2e3",
   "metadata": {},
   "source": [
    "#### Perceived educational support for students of different years"
   ]
  },
  {
   "cell_type": "code",
   "execution_count": 33,
   "id": "26da2602",
   "metadata": {},
   "outputs": [
    {
     "data": {
      "text/plain": [
       "<AxesSubplot:xlabel='Perceived Educational Support', ylabel='Year of Study'>"
      ]
     },
     "execution_count": 33,
     "metadata": {},
     "output_type": "execute_result"
    },
    {
     "data": {
      "image/png": "[encoded data removed]",
      "text/plain": [
       "<Figure size 432x288 with 1 Axes>"
      ]
     },
     "metadata": {
      "needs_background": "light"
     },
     "output_type": "display_data"
    }
   ],
   "source": [
    "df_first = df.loc[(df[\"Which year of college are you in currently? \"]==1)]\n",
    "Educational_first_mean = df_first.loc[:, 'Educational'].mean()\n",
    "\n",
    "df_second = df.loc[(df[\"Which year of college are you in currently? \"]==2)]\n",
    "Educational_second_mean = df_second.loc[:, 'Educational'].mean()\n",
    "\n",
    "df_third = df.loc[(df[\"Which year of college are you in currently? \"]==3)]\n",
    "Educational_third_mean = df_third.loc[:, 'Educational'].mean()\n",
    "\n",
    "df_fourth = df.loc[(df[\"Which year of college are you in currently? \"]==4)]\n",
    "Educational_fourth_mean = df_fourth.loc[:, 'Educational'].mean()\n",
    "\n",
    "df_fifth = df.loc[(df[\"Which year of college are you in currently? \"]==5)]\n",
    "Educational_fifth_mean = df_fifth.loc[:, 'Educational'].mean()\n",
    "\n",
    "df_Edu_mean= pd.DataFrame({'Year of Study':[\"First\", \"Second\", \"Third\", \"Fourth\", 'Fifth'],\"Perceived Educational Support\":[Educational_first_mean,Educational_second_mean,Educational_third_mean,Educational_fourth_mean,Educational_fifth_mean]})\n",
    "df_Edu_mean = df_Edu_mean.sort_values(\"Perceived Educational Support\", ascending=False)\n",
    "\n",
    "sns.barplot(x=\"Perceived Educational Support\", y=\"Year of Study\", data=df_Edu_mean,\n",
    "            label=\"Total\", palette=\"bright\") "
   ]
  },
  {
   "cell_type": "markdown",
   "id": "a641e014",
   "metadata": {},
   "source": [
    "### Mean reponses from students from public college vs private"
   ]
  },
  {
   "cell_type": "markdown",
   "id": "a3863d73",
   "metadata": {},
   "source": [
    "#### Availability of funding for public vs private colleges"
   ]
  },
  {
   "cell_type": "code",
   "execution_count": 34,
   "id": "28126c52",
   "metadata": {},
   "outputs": [
    {
     "data": {
      "text/plain": [
       "<AxesSubplot:xlabel='Public vs Private', ylabel='Perceived Funding'>"
      ]
     },
     "execution_count": 34,
     "metadata": {},
     "output_type": "execute_result"
    },
    {
     "data": {
      "image/png": "[encoded data removed]",
      "text/plain": [
       "<Figure size 432x288 with 1 Axes>"
      ]
     },
     "metadata": {
      "needs_background": "light"
     },
     "output_type": "display_data"
    }
   ],
   "source": [
    "df_public = df.loc[(df[\"Public/Private\"]==\"Public\")]\n",
    "Funding_public_mean = df_public.loc[:, Q7].mean()\n",
    "\n",
    "df_private = df.loc[(df[\"Public/Private\"]==\"Private\")]\n",
    "Funding_private_mean = df_private.loc[:, Q7].mean()\n",
    "\n",
    "df_Funding_mean= pd.DataFrame({'Public vs Private':[\"Public\", \"Private\"],\"Perceived Funding\":[Funding_public_mean, Funding_private_mean]})\n",
    "df_Funding_mean = df_Funding_mean.sort_values(\"Perceived Funding\", ascending=False)\n",
    "\n",
    "sns.barplot(x=\"Public vs Private\", y=\"Perceived Funding\", data=df_Funding_mean,\n",
    "            label=\"Total\", palette=\"bright\") "
   ]
  },
  {
   "cell_type": "markdown",
   "id": "978de46c",
   "metadata": {},
   "source": [
    "#### Perceived educational support for public vs private colleges"
   ]
  },
  {
   "cell_type": "code",
   "execution_count": 35,
   "id": "57a48fa5",
   "metadata": {},
   "outputs": [
    {
     "data": {
      "text/plain": [
       "<AxesSubplot:xlabel='Public vs Private', ylabel='Perceived Educational Support'>"
      ]
     },
     "execution_count": 35,
     "metadata": {},
     "output_type": "execute_result"
    },
    {
     "data": {
      "image/png": "[encoded data removed]",
      "text/plain": [
       "<Figure size 432x288 with 1 Axes>"
      ]
     },
     "metadata": {
      "needs_background": "light"
     },
     "output_type": "display_data"
    }
   ],
   "source": [
    "df_public = df.loc[(df[\"Public/Private\"]==\"Public\")]\n",
    "Educational_public_mean = df_public.loc[:, \"Educational\"].mean()\n",
    "\n",
    "df_private = df.loc[(df[\"Public/Private\"]==\"Private\")]\n",
    "Educational_private_mean = df_private.loc[:, \"Educational\"].mean()\n",
    "\n",
    "df_Edu_mean= pd.DataFrame({'Public vs Private':[\"Public\", \"Private\"],\"Perceived Educational Support\":[Educational_public_mean, Educational_private_mean]})\n",
    "df_Edu_mean = df_Edu_mean.sort_values(\"Perceived Educational Support\", ascending=False)\n",
    "\n",
    "sns.barplot(x=\"Public vs Private\", y=\"Perceived Educational Support\", data=df_Edu_mean,\n",
    "            label=\"Total\", palette=\"bright\") "
   ]
  },
  {
   "cell_type": "markdown",
   "id": "ed33f0d6",
   "metadata": {},
   "source": [
    "## Finding mean responses by students from different colleges"
   ]
  },
  {
   "cell_type": "markdown",
   "id": "77648e8f",
   "metadata": {},
   "source": [
    "#### Perceived interest in Entrepreneurship in different colleges"
   ]
  },
  {
   "cell_type": "code",
   "execution_count": 36,
   "id": "916c5774",
   "metadata": {},
   "outputs": [],
   "source": [
    "#Choosing colleges using the defined key for each college in order to avoid missing an entry due to difference in capitalisation, spelling etc\n",
    "#Colleges with highest responses chosen to avoid less representation bias and outlier data\n",
    "\n",
    "df_4 = df.loc[(df['KEY']=='4')] \n",
    "Ent_4_mean = df_4.loc[:, Ent].mean()\n",
    "\n",
    "df_10 = df.loc[(df['KEY']=='10')] \n",
    "Ent_10_mean = df_10.loc[:, Ent].mean()\n",
    "\n",
    "df_11 = df.loc[(df['KEY']=='11')] \n",
    "Ent_11_mean = df_11.loc[:, Ent].mean()\n",
    "\n",
    "df_13 = df.loc[(df['KEY']=='13')] \n",
    "Ent_13_mean = df_13.loc[:, Ent].mean()\n",
    "\n",
    "df_15 = df.loc[(df['KEY']=='15')] \n",
    "Ent_15_mean = df_15.loc[:, Ent].mean()\n",
    "\n",
    "df_16 = df.loc[(df['KEY']=='16')] \n",
    "Ent_16_mean = df_16.loc[:, Ent].mean()\n",
    "\n",
    "df_17 = df.loc[(df['KEY']=='17')] \n",
    "Ent_17_mean = df_17.loc[:, Ent].mean()\n",
    "\n",
    "df_22 = df.loc[(df['KEY']=='22')] \n",
    "Ent_22_mean = df_22.loc[:, Ent].mean()\n",
    "\n",
    "df_32 = df.loc[(df['KEY']=='32')] \n",
    "Ent_32_mean = df_32.loc[:, Ent].mean()\n",
    "\n",
    "df_34 = df.loc[(df['KEY']=='34')] \n",
    "Ent_34_mean = df_34.loc[:, Ent].mean()\n",
    "\n",
    "df_38 = df.loc[(df['KEY']=='38')] \n",
    "Ent_38_mean = df_38.loc[:, Ent].mean()\n",
    "\n",
    "df_41 = df.loc[(df['KEY']=='41')] \n",
    "Ent_41_mean = df_41.loc[:, Ent].mean()\n",
    "\n",
    "df_47 = df.loc[(df['KEY']=='47')] \n",
    "Ent_47_mean = df_47.loc[:, Ent].mean()"
   ]
  },
  {
   "cell_type": "markdown",
   "id": "077da8ff",
   "metadata": {},
   "source": [
    "#### Top 4 Entrepreneurially inclined colleges in the study match with the actual data (according to number of startups produced)"
   ]
  },
  {
   "cell_type": "code",
   "execution_count": 37,
   "id": "4dd32d23",
   "metadata": {},
   "outputs": [
    {
     "data": {
      "text/plain": [
       "<AxesSubplot:xlabel='Entrepreneurship Interest in Colleges', ylabel='College'>"
      ]
     },
     "execution_count": 37,
     "metadata": {},
     "output_type": "execute_result"
    },
    {
     "data": {
      "image/png": "[encoded data removed]",
      "text/plain": [
       "<Figure size 432x288 with 1 Axes>"
      ]
     },
     "metadata": {
      "needs_background": "light"
     },
     "output_type": "display_data"
    }
   ],
   "source": [
    "df_Ent_mean= pd.DataFrame({'College':[\"BITS Pilani\", \"IITB\", \"IITD\", \"IITG\", 'IITI', 'IITK', 'IITKgp','NIT Karnataka', 'NIT Bhopal', 'NIT Durgapur', 'NIT Trichy', 'SRCC', 'VIT'],\"Entrepreneurship Interest in Colleges\":[Ent_4_mean, Ent_10_mean, Ent_11_mean, Ent_13_mean, Ent_15_mean, Ent_16_mean, Ent_17_mean, Ent_22_mean, Ent_32_mean, Ent_34_mean, Ent_38_mean, Ent_41_mean, Ent_47_mean]})\n",
    "df_Ent_mean = df_Ent_mean.sort_values(\"Entrepreneurship Interest in Colleges\", ascending=False)\n",
    "\n",
    "sns.barplot(x=\"Entrepreneurship Interest in Colleges\", y=\"College\", data=df_Ent_mean,\n",
    "            label=\"Total\", palette=\"bright\")"
   ]
  },
  {
   "cell_type": "code",
   "execution_count": 38,
   "id": "c7a97716",
   "metadata": {},
   "outputs": [],
   "source": [
    "#for some reason IITKGP is less otherwise it's in top 5 along w IITB IITD BITSP and IITK"
   ]
  },
  {
   "cell_type": "markdown",
   "id": "3048f9b1",
   "metadata": {},
   "source": [
    "#### Perceived educational support in different colleges"
   ]
  },
  {
   "cell_type": "code",
   "execution_count": 39,
   "id": "2269843f",
   "metadata": {
    "scrolled": true
   },
   "outputs": [
    {
     "data": {
      "text/plain": [
       "<AxesSubplot:xlabel='Perceived Educational Support in Colleges', ylabel='College'>"
      ]
     },
     "execution_count": 39,
     "metadata": {},
     "output_type": "execute_result"
    },
    {
     "data": {
      "image/png": "[encoded data removed]",
      "text/plain": [
       "<Figure size 432x288 with 1 Axes>"
      ]
     },
     "metadata": {
      "needs_background": "light"
     },
     "output_type": "display_data"
    }
   ],
   "source": [
    "Educational_4_mean = df_4.loc[:, 'Educational'].mean()\n",
    "\n",
    "Educational_10_mean = df_10.loc[:, 'Educational'].mean()\n",
    "\n",
    "Educational_11_mean = df_11.loc[:, 'Educational'].mean()\n",
    "\n",
    "Educational_13_mean = df_13.loc[:, 'Educational'].mean()\n",
    "\n",
    "Educational_15_mean = df_15.loc[:, 'Educational'].mean()\n",
    "\n",
    "Educational_16_mean = df_16.loc[:, 'Educational'].mean()\n",
    " \n",
    "Educational_17_mean = df_17.loc[:, 'Educational'].mean()\n",
    " \n",
    "Educational_22_mean = df_22.loc[:, 'Educational'].mean()\n",
    "\n",
    "Educational_32_mean = df_32.loc[:, 'Educational'].mean()\n",
    "\n",
    "Educational_34_mean = df_34.loc[:, 'Educational'].mean()\n",
    "\n",
    "Educational_38_mean = df_38.loc[:, 'Educational'].mean()\n",
    "\n",
    "Educational_41_mean = df_41.loc[:, 'Educational'].mean()\n",
    "\n",
    "Educational_47_mean = df_47.loc[:, 'Educational'].mean()\n",
    "\n",
    "df_Educational_mean= pd.DataFrame({'College':[\"BITS Pilani\", \"IITB\", \"IITD\", \"IITG\", 'IITI', 'IITK', 'IITKgp','NIT Karnataka', 'NIT Bhopal', 'NIT Durgapur', 'NIT Trichy', 'SRCC', 'VIT'],\"Perceived Educational Support in Colleges\":[Educational_4_mean, Educational_10_mean, Educational_11_mean, Educational_13_mean, Educational_15_mean, Educational_16_mean, Educational_17_mean, Educational_22_mean, Educational_32_mean, Educational_34_mean, Educational_38_mean, Educational_41_mean, Educational_47_mean]})\n",
    "df_Educational_mean = df_Educational_mean.sort_values(\"Perceived Educational Support in Colleges\", ascending=False)\n",
    "\n",
    "sns.barplot(x=\"Perceived Educational Support in Colleges\", y=\"College\", data=df_Educational_mean,\n",
    "            label=\"Total\", palette=\"bright\")"
   ]
  },
  {
   "cell_type": "markdown",
   "id": "530bc516",
   "metadata": {},
   "source": [
    "#### Perceived Funding Support received in Colleges\n",
    "##### Top colleges match with the actual data of raising funds by colleges"
   ]
  },
  {
   "cell_type": "code",
   "execution_count": 40,
   "id": "727db4f8",
   "metadata": {
    "scrolled": true
   },
   "outputs": [
    {
     "data": {
      "text/plain": [
       "<AxesSubplot:xlabel='Perceived Funding Support in Colleges', ylabel='College'>"
      ]
     },
     "execution_count": 40,
     "metadata": {},
     "output_type": "execute_result"
    },
    {
     "data": {
      "image/png": "[encoded data removed]",
      "text/plain": [
       "<Figure size 432x288 with 1 Axes>"
      ]
     },
     "metadata": {
      "needs_background": "light"
     },
     "output_type": "display_data"
    }
   ],
   "source": [
    "Q7_4_mean = df_4.loc[:, Q7].mean()\n",
    "\n",
    "Q7_10_mean = df_10.loc[:, Q7].mean()\n",
    "\n",
    "Q7_11_mean = df_11.loc[:, Q7].mean()\n",
    "\n",
    "Q7_13_mean = df_13.loc[:, Q7].mean()\n",
    "\n",
    "Q7_15_mean = df_15.loc[:, Q7].mean()\n",
    "\n",
    "Q7_16_mean = df_16.loc[:, Q7].mean()\n",
    " \n",
    "Q7_17_mean = df_17.loc[:, Q7].mean()\n",
    " \n",
    "Q7_22_mean = df_22.loc[:, Q7].mean()\n",
    "\n",
    "Q7_32_mean = df_32.loc[:, Q7].mean()\n",
    "\n",
    "Q7_34_mean = df_34.loc[:, Q7].mean()\n",
    "\n",
    "Q7_38_mean = df_38.loc[:, Q7].mean()\n",
    "\n",
    "Q7_41_mean = df_41.loc[:, Q7].mean()\n",
    "\n",
    "Q7_47_mean = df_47.loc[:, Q7].mean()\n",
    "\n",
    "df_Q7_mean= pd.DataFrame({'College':[\"BITS Pilani\", \"IITB\", \"IITD\", \"IITG\", 'IITI', 'IITK', 'IITKgp','NIT Karnataka', 'NIT Bhopal', 'NIT Durgapur', 'NIT Trichy', 'SRCC', 'VIT'],\"Perceived Funding Support in Colleges\":[Q7_4_mean, Q7_10_mean, Q7_11_mean, Q7_13_mean, Q7_15_mean, Q7_16_mean, Q7_17_mean, Q7_22_mean, Q7_32_mean, Q7_34_mean, Q7_38_mean, Q7_41_mean, Q7_47_mean]})\n",
    "df_Q7_mean = df_Q7_mean.sort_values(\"Perceived Funding Support in Colleges\", ascending=False)\n",
    "\n",
    "sns.barplot(x=\"Perceived Funding Support in Colleges\", y=\"College\", data=df_Q7_mean,\n",
    "            label=\"Total\", palette=\"bright\")"
   ]
  },
  {
   "cell_type": "markdown",
   "id": "7a73bc6e",
   "metadata": {},
   "source": [
    "### Finding difference in mean response for family related questions between Entrepreneurial families and Non-Entrepreneurial families"
   ]
  },
  {
   "cell_type": "markdown",
   "id": "0d4618c9",
   "metadata": {},
   "source": [
    "#### Family's support for entrepreneurship when someone in the family is an entrepreneur vs when no one is"
   ]
  },
  {
   "cell_type": "code",
   "execution_count": 41,
   "id": "2f5241df",
   "metadata": {},
   "outputs": [
    {
     "data": {
      "text/plain": [
       "<AxesSubplot:xlabel='Family Entrepreneurship', ylabel='Family Support for Entrepreneurship'>"
      ]
     },
     "execution_count": 41,
     "metadata": {},
     "output_type": "execute_result"
    },
    {
     "data": {
      "image/png": "[encoded data removed]",
      "text/plain": [
       "<Figure size 432x288 with 1 Axes>"
      ]
     },
     "metadata": {
      "needs_background": "light"
     },
     "output_type": "display_data"
    }
   ],
   "source": [
    "df_fam_ent = pd.concat([df[df1['  Is anyone from your family into Entrepreneurship?  ']==\"Father\"], df[df1['  Is anyone from your family into Entrepreneurship?  ']==\"Mother\"], df[df1['  Is anyone from your family into Entrepreneurship?  ']==\"Grandparents\"], df[df1['  Is anyone from your family into Entrepreneurship?  ']==\"Sibling\"]])\n",
    "df_fam_ent_mean = df_fam_ent.loc[:, Q4].mean()\n",
    "\n",
    "df_nofam_ent = df.loc[(df1['  Is anyone from your family into Entrepreneurship?  ']==\"No One\")]\n",
    "df_nofam_ent_mean = df_nofam_ent.loc[:, Q4].mean()\n",
    "\n",
    "df_fament_mean= pd.DataFrame({'Family Entrepreneurship':['Someone in Family', 'No One in family'],\"Family Support for Entrepreneurship\":[df_fam_ent_mean, df_nofam_ent_mean]})\n",
    "df_fament_mean = df_fament_mean.sort_values(\"Family Support for Entrepreneurship\", ascending=False)\n",
    "\n",
    "sns.barplot(x=\"Family Entrepreneurship\", y=\"Family Support for Entrepreneurship\", data=df_fament_mean,\n",
    "            label=\"Total\", palette=\"bright\")"
   ]
  },
  {
   "cell_type": "markdown",
   "id": "7aee4043",
   "metadata": {},
   "source": [
    "#### Perceived interest in entrepreneurship when someone in the family is into entrepreneurship vs when no one is"
   ]
  },
  {
   "cell_type": "code",
   "execution_count": 42,
   "id": "49c1d2c3",
   "metadata": {
    "scrolled": true
   },
   "outputs": [
    {
     "data": {
      "text/plain": [
       "<AxesSubplot:xlabel='Family Entrepreneurship', ylabel='Interest in Entrepreneurship'>"
      ]
     },
     "execution_count": 42,
     "metadata": {},
     "output_type": "execute_result"
    },
    {
     "data": {
      "image/png": "[encoded data removed]",
      "text/plain": [
       "<Figure size 432x288 with 1 Axes>"
      ]
     },
     "metadata": {
      "needs_background": "light"
     },
     "output_type": "display_data"
    }
   ],
   "source": [
    "df_fam_ent = pd.concat([df[df1['  Is anyone from your family into Entrepreneurship?  ']==\"Father\"], df[df1['  Is anyone from your family into Entrepreneurship?  ']==\"Mother\"], df[df1['  Is anyone from your family into Entrepreneurship?  ']==\"Grandparents\"], df[df1['  Is anyone from your family into Entrepreneurship?  ']==\"Sibling\"]])\n",
    "df_fam_ent_mean = df_fam_ent.loc[:, Ent].mean()\n",
    "\n",
    "df_nofam_ent = df.loc[(df1['  Is anyone from your family into Entrepreneurship?  ']==\"No One\")]\n",
    "df_nofam_ent_mean = df_nofam_ent.loc[:, Ent].mean()\n",
    "\n",
    "df_fament_mean= pd.DataFrame({'Family Entrepreneurship':['Someone in Family', 'No One in family'],\"Interest in Entrepreneurship\":[df_fam_ent_mean, df_nofam_ent_mean]})\n",
    "df_fament_mean = df_fament_mean.sort_values(\"Interest in Entrepreneurship\", ascending=False)\n",
    "\n",
    "sns.barplot(x=\"Family Entrepreneurship\", y=\"Interest in Entrepreneurship\", data=df_fament_mean,\n",
    "            label=\"Total\", palette=\"bright\")"
   ]
  },
  {
   "cell_type": "markdown",
   "id": "7865ed04",
   "metadata": {},
   "source": [
    "#### Difference between importance of family's support and family's support \n",
    "##### Hypothesis: When family is supportive students give more importance to their opinion. Testing by recording the number of respondents who have given a lower importance to family's support than family's support (<10% of respondents)"
   ]
  },
  {
   "cell_type": "code",
   "execution_count": 43,
   "id": "8f7312b4",
   "metadata": {},
   "outputs": [
    {
     "data": {
      "text/plain": [
       "1.2715024824491108"
      ]
     },
     "execution_count": 43,
     "metadata": {},
     "output_type": "execute_result"
    },
    {
     "data": {
      "image/png": "[encoded data removed]",
      "text/plain": [
       "<Figure size 360x360 with 1 Axes>"
      ]
     },
     "metadata": {
      "needs_background": "light"
     },
     "output_type": "display_data"
    }
   ],
   "source": [
    "diff_famsupp = df1[Q5]-df1[Q4]\n",
    "sns.displot(diff_famsupp)\n",
    "statistics.stdev(diff_famsupp)"
   ]
  }
 ],
 "metadata": {
  "kernelspec": {
   "display_name": "Python 3 (ipykernel)",
   "language": "python",
   "name": "python3"
  },
  "language_info": {
   "codemirror_mode": {
    "name": "ipython",
    "version": 3
   },
   "file_extension": ".py",
   "mimetype": "text/x-python",
   "name": "python",
   "nbconvert_exporter": "python",
   "pygments_lexer": "ipython3",
   "version": "3.9.7"
  }
 },
 "nbformat": 4,
 "nbformat_minor": 5
}
